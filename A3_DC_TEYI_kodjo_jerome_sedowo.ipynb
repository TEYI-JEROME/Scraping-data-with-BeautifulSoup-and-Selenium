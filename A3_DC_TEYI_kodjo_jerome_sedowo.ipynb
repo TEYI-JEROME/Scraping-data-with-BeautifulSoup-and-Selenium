{
 "cells": [
  {
   "cell_type": "markdown",
   "id": "7c961d19",
   "metadata": {},
   "source": [
    "# TEYI Kodjo Jerome sedowo"
   ]
  },
  {
   "cell_type": "markdown",
   "id": "4a1d158d",
   "metadata": {},
   "source": [
    "Exercise.\n",
    "\n",
    "# url\n",
    "url = 'https://dakar-auto.com/senegal/motos-and-scooters-3?&page=3'\n",
    "\n",
    "* scrape the following informations: \n",
    "* brand, model, year,reference, kms driven, adress, price\n",
    "* from page 1 to 14\n",
    "* clean the scraped data"
   ]
  },
  {
   "cell_type": "code",
   "execution_count": 17,
   "id": "4beaf247",
   "metadata": {},
   "outputs": [],
   "source": [
    "from requests import get\n",
    "\n",
    "from bs4 import BeautifulSoup as bs\n",
    "\n",
    "import pandas as pd"
   ]
  },
  {
   "cell_type": "code",
   "execution_count": 18,
   "id": "b8aa933e",
   "metadata": {},
   "outputs": [],
   "source": [
    "df = pd.DataFrame()\n",
    "\n",
    "for p in range(1,15):\n",
    "    url = f'https://dakar-auto.com/senegal/motos-and-scooters-3?&page={p}'\n",
    "    res = get(url)\n",
    "    soup = bs(res.text, 'html.parser')\n",
    "    \n",
    "    containers = soup.find_all('div', class_ = 'listings-cards__list-item mb-md-3 mb-3')\n",
    "    \n",
    "    data = []\n",
    "\n",
    "    for container in containers :\n",
    "        try:\n",
    "            gen_inf = container.find('h2', class_ = 'listing-card__header__title mb-md-2 mb-0').text.strip().split()\n",
    "\n",
    "            brand = gen_inf[0]\n",
    "\n",
    "            model = ''.join(gen_inf[1:len(gen_inf)-1])\n",
    "\n",
    "            year = gen_inf[-1]\n",
    "\n",
    "            # Scrape the reference, kilometer driven\n",
    "\n",
    "            gen_inf2 = container.find_all('li', class_ = 'listing-card__attribute list-inline-item')\n",
    "\n",
    "            reference = gen_inf2[0].text.strip().replace(\"Ref. \",\"\")\n",
    "\n",
    "            kms_driven = gen_inf2[1].text.strip().replace(\" km\",\"\")\n",
    "\n",
    "            # adress, price\n",
    "\n",
    "            price = container.find('h3', class_=\"listing-card__header__price font-weight-bold text-uppercase mb-0\").text.strip().replace(\" F CFA\",\"\").replace(\"\\u202f\",\"\")\n",
    "\n",
    "            adress1 = container.find('span', class_ = \"town-suburb d-inline-block\").text.strip()\n",
    "            adress2 = container.find('span', class_ = \"province font-weight-bold d-inline-block\").text.strip()\n",
    "            adress = adress1 + adress2\n",
    "            dic = {'brand':brand ,\n",
    "                  'model':model,\n",
    "                   'year':year,\n",
    "                   'reference':reference,\n",
    "                   'kms_driven':kms_driven,\n",
    "                   'adress':adress,\n",
    "                   'price':price}\n",
    "            data.append(dic)\n",
    "        except:\n",
    "            pass\n",
    "\n",
    "    DF = pd.DataFrame(data)\n",
    "    df = pd.concat([df,DF], axis = 0).reset_index(drop = True)"
   ]
  },
  {
   "cell_type": "code",
   "execution_count": 19,
   "id": "e8ae2a8b",
   "metadata": {},
   "outputs": [
    {
     "data": {
      "text/plain": [
       "(197, 7)"
      ]
     },
     "execution_count": 19,
     "metadata": {},
     "output_type": "execute_result"
    }
   ],
   "source": [
    "df.shape"
   ]
  },
  {
   "cell_type": "code",
   "execution_count": 20,
   "id": "57b1cebe",
   "metadata": {},
   "outputs": [
    {
     "data": {
      "text/html": [
       "<div>\n",
       "<style scoped>\n",
       "    .dataframe tbody tr th:only-of-type {\n",
       "        vertical-align: middle;\n",
       "    }\n",
       "\n",
       "    .dataframe tbody tr th {\n",
       "        vertical-align: top;\n",
       "    }\n",
       "\n",
       "    .dataframe thead th {\n",
       "        text-align: right;\n",
       "    }\n",
       "</style>\n",
       "<table border=\"1\" class=\"dataframe\">\n",
       "  <thead>\n",
       "    <tr style=\"text-align: right;\">\n",
       "      <th></th>\n",
       "      <th>brand</th>\n",
       "      <th>model</th>\n",
       "      <th>year</th>\n",
       "      <th>reference</th>\n",
       "      <th>kms_driven</th>\n",
       "      <th>adress</th>\n",
       "      <th>price</th>\n",
       "    </tr>\n",
       "  </thead>\n",
       "  <tbody>\n",
       "    <tr>\n",
       "      <th>0</th>\n",
       "      <td>Yamaha</td>\n",
       "      <td>TMax</td>\n",
       "      <td>2020</td>\n",
       "      <td>139327</td>\n",
       "      <td>14000</td>\n",
       "      <td>Ouakam,Dakar</td>\n",
       "      <td>3900000</td>\n",
       "    </tr>\n",
       "    <tr>\n",
       "      <th>1</th>\n",
       "      <td>Yamaha</td>\n",
       "      <td>X-Max</td>\n",
       "      <td>2020</td>\n",
       "      <td>139325</td>\n",
       "      <td>10000</td>\n",
       "      <td>Yoff,Dakar</td>\n",
       "      <td>1200000</td>\n",
       "    </tr>\n",
       "    <tr>\n",
       "      <th>2</th>\n",
       "      <td>Honda</td>\n",
       "      <td>CBF</td>\n",
       "      <td>2014</td>\n",
       "      <td>139317</td>\n",
       "      <td>55000</td>\n",
       "      <td>Grand-Dakar,Dakar</td>\n",
       "      <td>1150000</td>\n",
       "    </tr>\n",
       "    <tr>\n",
       "      <th>3</th>\n",
       "      <td>Piaggio</td>\n",
       "      <td>Xevo</td>\n",
       "      <td>2012</td>\n",
       "      <td>139278</td>\n",
       "      <td>1</td>\n",
       "      <td>Parcelles Assainies,Dakar</td>\n",
       "      <td>490000</td>\n",
       "    </tr>\n",
       "    <tr>\n",
       "      <th>4</th>\n",
       "      <td>Aprilia</td>\n",
       "      <td>Mojito</td>\n",
       "      <td>2018</td>\n",
       "      <td>139255</td>\n",
       "      <td>150</td>\n",
       "      <td>Grand-Dakar,Dakar</td>\n",
       "      <td>300000</td>\n",
       "    </tr>\n",
       "    <tr>\n",
       "      <th>5</th>\n",
       "      <td>BMW</td>\n",
       "      <td>GS</td>\n",
       "      <td>2019</td>\n",
       "      <td>139244</td>\n",
       "      <td>20000</td>\n",
       "      <td>Sicap Liberté,Dakar</td>\n",
       "      <td>4900000</td>\n",
       "    </tr>\n",
       "    <tr>\n",
       "      <th>6</th>\n",
       "      <td>BMW</td>\n",
       "      <td>GS</td>\n",
       "      <td>2021</td>\n",
       "      <td>139245</td>\n",
       "      <td>17000</td>\n",
       "      <td>Sicap Liberté,Dakar</td>\n",
       "      <td>2500000</td>\n",
       "    </tr>\n",
       "    <tr>\n",
       "      <th>7</th>\n",
       "      <td>Ducati</td>\n",
       "      <td>999</td>\n",
       "      <td>2024</td>\n",
       "      <td>139247</td>\n",
       "      <td>500</td>\n",
       "      <td>Sicap Liberté,Dakar</td>\n",
       "      <td>7900000</td>\n",
       "    </tr>\n",
       "    <tr>\n",
       "      <th>8</th>\n",
       "      <td>BMW</td>\n",
       "      <td>R</td>\n",
       "      <td>2023</td>\n",
       "      <td>139246</td>\n",
       "      <td>7000</td>\n",
       "      <td>Sicap Liberté,Dakar</td>\n",
       "      <td>4900000</td>\n",
       "    </tr>\n",
       "    <tr>\n",
       "      <th>9</th>\n",
       "      <td>BMW</td>\n",
       "      <td>GS</td>\n",
       "      <td>2023</td>\n",
       "      <td>139248</td>\n",
       "      <td>2000</td>\n",
       "      <td>Sicap Liberté,Dakar</td>\n",
       "      <td>6900000</td>\n",
       "    </tr>\n",
       "  </tbody>\n",
       "</table>\n",
       "</div>"
      ],
      "text/plain": [
       "     brand   model  year reference kms_driven                     adress  \\\n",
       "0   Yamaha    TMax  2020    139327      14000               Ouakam,Dakar   \n",
       "1   Yamaha   X-Max  2020    139325      10000                 Yoff,Dakar   \n",
       "2    Honda     CBF  2014    139317      55000          Grand-Dakar,Dakar   \n",
       "3  Piaggio    Xevo  2012    139278          1  Parcelles Assainies,Dakar   \n",
       "4  Aprilia  Mojito  2018    139255        150          Grand-Dakar,Dakar   \n",
       "5      BMW      GS  2019    139244      20000        Sicap Liberté,Dakar   \n",
       "6      BMW      GS  2021    139245      17000        Sicap Liberté,Dakar   \n",
       "7   Ducati     999  2024    139247        500        Sicap Liberté,Dakar   \n",
       "8      BMW       R  2023    139246       7000        Sicap Liberté,Dakar   \n",
       "9      BMW      GS  2023    139248       2000        Sicap Liberté,Dakar   \n",
       "\n",
       "     price  \n",
       "0  3900000  \n",
       "1  1200000  \n",
       "2  1150000  \n",
       "3   490000  \n",
       "4   300000  \n",
       "5  4900000  \n",
       "6  2500000  \n",
       "7  7900000  \n",
       "8  4900000  \n",
       "9  6900000  "
      ]
     },
     "execution_count": 20,
     "metadata": {},
     "output_type": "execute_result"
    }
   ],
   "source": [
    "df.head(10)"
   ]
  },
  {
   "cell_type": "code",
   "execution_count": 21,
   "id": "ceeb721f",
   "metadata": {},
   "outputs": [
    {
     "name": "stdout",
     "output_type": "stream",
     "text": [
      "<class 'pandas.core.frame.DataFrame'>\n",
      "RangeIndex: 197 entries, 0 to 196\n",
      "Data columns (total 7 columns):\n",
      " #   Column      Non-Null Count  Dtype \n",
      "---  ------      --------------  ----- \n",
      " 0   brand       197 non-null    object\n",
      " 1   model       197 non-null    object\n",
      " 2   year        197 non-null    object\n",
      " 3   reference   197 non-null    object\n",
      " 4   kms_driven  197 non-null    object\n",
      " 5   adress      197 non-null    object\n",
      " 6   price       197 non-null    object\n",
      "dtypes: object(7)\n",
      "memory usage: 10.9+ KB\n"
     ]
    }
   ],
   "source": [
    "df.info()"
   ]
  },
  {
   "cell_type": "code",
   "execution_count": 22,
   "id": "7b33dccb",
   "metadata": {},
   "outputs": [
    {
     "data": {
      "text/plain": [
       "brand         object\n",
       "model         object\n",
       "year          object\n",
       "reference     object\n",
       "kms_driven    object\n",
       "adress        object\n",
       "price         object\n",
       "dtype: object"
      ]
     },
     "execution_count": 22,
     "metadata": {},
     "output_type": "execute_result"
    }
   ],
   "source": [
    "df.dtypes"
   ]
  },
  {
   "cell_type": "markdown",
   "id": "d13d93a0",
   "metadata": {},
   "source": [
    "**we will look clearly in our cloumns and identify exctly what we will do in the data cleaning**"
   ]
  },
  {
   "cell_type": "code",
   "execution_count": 23,
   "id": "c6e3613a",
   "metadata": {},
   "outputs": [
    {
     "data": {
      "text/plain": [
       "Index(['brand', 'model', 'year', 'reference', 'kms_driven', 'adress', 'price'], dtype='object')"
      ]
     },
     "execution_count": 23,
     "metadata": {},
     "output_type": "execute_result"
    }
   ],
   "source": [
    "df.columns"
   ]
  },
  {
   "cell_type": "code",
   "execution_count": 24,
   "id": "8592c5c5",
   "metadata": {},
   "outputs": [
    {
     "name": "stdout",
     "output_type": "stream",
     "text": [
      "we will print unique value of brand\n",
      "\n",
      "['Yamaha' 'Honda' 'Piaggio' 'Aprilia' 'BMW' 'Ducati' 'Beverly' 'KTM'\n",
      " 'Peugeot' 'Kymco' 'Triumph' 'Suzuki' 'Kawasaki' 'Gilera' 'Haouju' 'Bajaj'\n",
      " 'Cagiva' 'Vespa' 'Keeway']\n",
      "\n",
      "we will print unique value of model\n",
      "\n",
      "['TMax' 'X-Max' 'CBF' 'Xevo' 'Mojito' 'GS' '999' 'R' 'F' 'Scrambler'\n",
      " 'NSSForza' 'S' '350i' 'SH' 'PCX' 'jakarta' 'SX' 'Liberty' 'Tweet' 'Mxer'\n",
      " 'People' 'Beverly' 'Carnaby' 'Xciting' 'SMR' 'Agility' 'Sprint' 'GSX-F'\n",
      " 'Scoot' 'Burgman' 'XRVAfricaTwin' 'MT-09-TRACER' 'Zip' 'MT' 'UC-Epicuro'\n",
      " 'Dink' 'Ninja' 'CB' 'SuperAdventure' 'DT' 'X-City' 'Moto' 'Scout' 'Duke'\n",
      " 'Versys' 'RS' 'runnerfx' 'NRG' 'runner' 'GT' 'YBR' 'BruteForce' 'RG'\n",
      " 'Haouju' 'CT125' 'bw' 'G' 'CX300' 'Bravo' 'TL' 'X9' 'cayon' 'NMAX' 'PS'\n",
      " 'FJSSilverWing' 'Tracer' 'AFSWave' 'yamaha-fazer-600' 'C' 'GRIZZLY-550'\n",
      " 'XLTransalp' 'CBR' 'FESPantheon' 'X-ADV' 'Iron' 'Majesty' 'Vespa' 'R1150'\n",
      " 'KLR-650' 'LML' 'RC' 'Free' 'LX' 'XT600' 'FZ' 'kymco-like' 'Niken'\n",
      " 'Address' 'GrandDink' 'cityblade' 'Like' 'Runner']\n",
      "\n",
      "we will print unique value of year\n",
      "\n",
      "['2020' '2014' '2012' '2018' '2019' '2021' '2024' '2023' '2022' '2017'\n",
      " '2016' '2015' '2011' '2009' '2013' '2000' '1994' '2006' '2008' '2010'\n",
      " '2005' '2007' '1995' '2002']\n",
      "\n",
      "we will print unique value of reference\n",
      "\n",
      "['139327' '139325' '139317' '139278' '139255' '139244' '139245' '139247'\n",
      " '139246' '139248' '139126' '139127' '139132' '139160' '139062' '139065'\n",
      " '139066' '139067' '139069' '139070' '139071' '139028' '139043' '138966'\n",
      " '138983' '138883' '138870' '138797' '138800' '138801' '138717' '138623'\n",
      " '138598' '138592' '138510' '138498' '138452' '138437' '138362' '138373'\n",
      " '138317' '138267' '138268' '138206' '138200' '138190' '138179' '138154'\n",
      " '138100' '138098' '138099' '137293' '138059' '138048' '138025' '137997'\n",
      " '137959' '137884' '137885' '137869' '137870' '137871' '137855' '137789'\n",
      " '137791' '137774' '137775' '137776' '137724' '137627' '137624' '137614'\n",
      " '137584' '137581' '137536' '137494' '137491' '137492' '137490' '137398'\n",
      " '137374' '137373' '137357' '137358' '137359' '137276' '137277' '137279'\n",
      " '137278' '137280' '137281' '137282' '137283' '137228' '137229' '137230'\n",
      " '137231' '137232' '137233' '137236' '137234' '137195' '137196' '137197'\n",
      " '137198' '137199' '137200' '137201' '137202' '137176' '137177' '137178'\n",
      " '137189' '137190' '137166' '137158' '137156' '137157' '137160' '137161'\n",
      " '137162' '137125' '137126' '137127' '137097' '137098' '137096' '137094'\n",
      " '137093' '137091' '137090' '136993' '136928' '136922' '136923' '136924'\n",
      " '136925' '136926' '136927' '136827' '136828' '136719' '136687' '136688'\n",
      " '136618' '136571' '136466' '136390' '136366' '136356' '136299' '136296'\n",
      " '136289' '136291' '136243' '136196' '136156' '136117' '136118' '136091'\n",
      " '136089' '136045' '136043' '136009' '136011' '135955' '135868' '135934'\n",
      " '135927' '135853' '135830' '135831' '135177' '135807' '135755' '135748'\n",
      " '135729' '135633' '135630' '135622' '135589' '135564' '135315' '135498'\n",
      " '135467' '135448' '135447' '135429' '135390' '135313' '135314' '134868'\n",
      " '134736' '134733' '134726' '134679' '134621']\n",
      "\n",
      "we will print unique value of kms_driven\n",
      "\n",
      "['14000' '10000' '55000' '1' '150' '20000' '17000' '500' '7000' '2000'\n",
      " '4000' '13000' '9000' '3000' '52917' '15000' '1000' '101000' '98000'\n",
      " '2533' '390' '25000' '250' '51122' '21500' '56586' '64000' '56500'\n",
      " '29590' '6000' '78000' '63000' '5000' '11900' '57000' '15' '83000'\n",
      " '37000' '23000' '150000' '11000' '121000' '300' '28000' '23789' '42000'\n",
      " '1111' '29000' '23027' '1500' '4900' '167' '30000' '39000' '120' '1700'\n",
      " '3400' '16000' '27000' '18' '24' '5' '160' '20' '125' '50' '40000'\n",
      " '35000' '3700' '11101' '77160' '45000' '47304' '580' '19000' '49000'\n",
      " '29150' '32000' '8000' '68000' '53761' '65437' '180' '60000' '200'\n",
      " '200000' '45' '100000' '23200' '6017' '58']\n",
      "\n",
      "we will print unique value of adress\n",
      "\n",
      "['Ouakam,Dakar' 'Yoff,Dakar' 'Grand-Dakar,Dakar'\n",
      " 'Parcelles Assainies,Dakar' 'Sicap Liberté,Dakar' 'Hann Bel-Air,Dakar'\n",
      " 'Plateau,Dakar' 'Mbao,Dakar' 'Point-E,Dakar' 'Guédiawaye,Dakar'\n",
      " 'VDN,Dakar' 'Hann Maristes,Dakar' 'Scat Urbam,Dakar' 'Sipres,Dakar'\n",
      " 'Ouest Foire,Dakar' 'Kaolack,Kaolack' 'Mamelles,Dakar' 'Thiaroye,Dakar'\n",
      " 'Keur Massar,Dakar' 'Sicap Sacré Coeur,Dakar' 'Biscuiterie,Dakar'\n",
      " 'Nord Foire,Dakar' 'Liberté 6 extension,Dakar' 'Golf,Dakar'\n",
      " 'Cambérène,Dakar' 'Pikine Nord,Dakar' 'Saint-Louis,Saint-Louis'\n",
      " 'Gueule-Tapée, Fass, Colobane,Dakar' 'Cité Keur gorgui,Dakar'\n",
      " 'Mermoz Sacré-Coeur,Dakar' 'Mbacke,Diourbel' 'Yeumbeul Nord,Dakar'\n",
      " 'Sicap Dieuppeul,Dakar' 'Ziguinchor,Ziguinchor' 'Amitié,Dakar'\n",
      " 'Rufisque,Dakar' 'Cité Avion,Dakar' 'Tivaouane Peulh,Dakar'\n",
      " 'Grand-Yoff,Dakar' \"Patte d'oie,Dakar\" 'Thiès,Thiès' 'Fann,Dakar'\n",
      " 'Almadies,Dakar' 'Zone Industrielle,Dakar' 'Liberté 6,Dakar' 'Hlm,Dakar'\n",
      " 'Bargny,Dakar' 'Malika,Dakar' 'Mbour,Thiès' 'Dieuppeul Derklé,Dakar'\n",
      " 'Médina,Dakar' 'Pikine Ouest,Dakar' 'Sicap Foire,Dakar' 'Fatick,Fatick'\n",
      " 'Diamaguene Sicap Mbao,Dakar' 'Pout,Thiès' 'Ngor,Dakar']\n",
      "\n",
      "we will print unique value of price\n",
      "\n",
      "['3900000' '1200000' '1150000' '490000' '300000' '4900000' '2500000'\n",
      " '7900000' '6900000' '5500000' '3500000' '5900000' '1600000' '375000'\n",
      " '1900000' '650000' '350000' '1400000' '2350000' '2300000' '320000'\n",
      " '400000' '450000' '550000' '1800000' '1850000' '380000' '150' '750000'\n",
      " '700000' '1300000' '3600000' '2400000' '800000' '4500000' '175000'\n",
      " '1500000' '14000000' '600000' '330000' '4300000' '390000' '700' '250000'\n",
      " '1000000' '280000' '480000' '1730000' '2200000' '2850000' '1100000'\n",
      " '2000000' '2700000' '1350000' '340000' '500000' '1650000' '3850000'\n",
      " '8500000' '2680000' '2290000' '220000' '675000' '5750000' '70000'\n",
      " '180000' '6000000' '625000' '290000' '3000000' '3400000' '950000'\n",
      " '3380000' '475000' '2750000' '1700000' '3800000' '3250000' '325000'\n",
      " '5000000' '680000' 'NC' '3200000' '3300000']\n",
      "\n"
     ]
    }
   ],
   "source": [
    "variable = ['brand', 'model', 'year', 'reference', 'kms_driven', 'adress', 'price']\n",
    "\n",
    "for pr in variable:\n",
    "    print(f\"we will print unique value of\", pr)\n",
    "    \n",
    "    print('')\n",
    "    print(df[pr].unique())\n",
    "    print('')"
   ]
  },
  {
   "cell_type": "markdown",
   "id": "febb2c3f",
   "metadata": {},
   "source": [
    "**we clearly identify that our variable price have a value 'NC'. we will correct it** "
   ]
  },
  {
   "cell_type": "code",
   "execution_count": 25,
   "id": "98bcdd05",
   "metadata": {},
   "outputs": [],
   "source": [
    "df['price'] = df['price'].str.replace('NC','999')"
   ]
  },
  {
   "cell_type": "markdown",
   "id": "8c409257",
   "metadata": {},
   "source": [
    "* Now we will convert our variables : price, reference, year, kms_driven in to numerical int"
   ]
  },
  {
   "cell_type": "code",
   "execution_count": 26,
   "id": "b79bda2d",
   "metadata": {},
   "outputs": [],
   "source": [
    "numerical = ['year','reference','kms_driven','price']\n",
    "\n",
    "for var in numerical:\n",
    "    df[var] = df[var].astype('int')"
   ]
  },
  {
   "cell_type": "code",
   "execution_count": 27,
   "id": "ea7a9b2b",
   "metadata": {},
   "outputs": [
    {
     "data": {
      "text/plain": [
       "brand         object\n",
       "model         object\n",
       "year           int64\n",
       "reference      int64\n",
       "kms_driven     int64\n",
       "adress        object\n",
       "price          int64\n",
       "dtype: object"
      ]
     },
     "execution_count": 27,
     "metadata": {},
     "output_type": "execute_result"
    }
   ],
   "source": [
    "df.dtypes"
   ]
  },
  {
   "cell_type": "markdown",
   "id": "146fd0b4",
   "metadata": {},
   "source": [
    "* we will change our value 999 by the median price"
   ]
  },
  {
   "cell_type": "code",
   "execution_count": 28,
   "id": "d084697a",
   "metadata": {},
   "outputs": [],
   "source": [
    "median_price = df['price'][df['price'] != 999].median(skipna=True)\n",
    "df['price'] = df['price'].apply(lambda x: median_price if x == 999 else x)"
   ]
  },
  {
   "cell_type": "markdown",
   "id": "68b1695e",
   "metadata": {},
   "source": [
    "**We will check about missing value**"
   ]
  },
  {
   "cell_type": "code",
   "execution_count": 29,
   "id": "2eea38d3",
   "metadata": {},
   "outputs": [
    {
     "data": {
      "text/plain": [
       "0"
      ]
     },
     "execution_count": 29,
     "metadata": {},
     "output_type": "execute_result"
    }
   ],
   "source": [
    "df.isna().any().sum()"
   ]
  },
  {
   "cell_type": "markdown",
   "id": "5efc9ac8",
   "metadata": {},
   "source": [
    "* we will Check the existence of duplicated values on df"
   ]
  },
  {
   "cell_type": "code",
   "execution_count": 30,
   "id": "4e81cd69",
   "metadata": {},
   "outputs": [
    {
     "data": {
      "text/plain": [
       "0"
      ]
     },
     "execution_count": 30,
     "metadata": {},
     "output_type": "execute_result"
    }
   ],
   "source": [
    "df.duplicated().sum().sum()"
   ]
  },
  {
   "cell_type": "markdown",
   "id": "888d2e77",
   "metadata": {},
   "source": [
    "> Let exported our data"
   ]
  },
  {
   "cell_type": "code",
   "execution_count": 32,
   "id": "6ee673e2",
   "metadata": {},
   "outputs": [],
   "source": [
    "df.to_excel('TEYI_kodjo_motos_data.xlsx',index = False, header = True)"
   ]
  },
  {
   "cell_type": "code",
   "execution_count": null,
   "id": "1e9a3a95",
   "metadata": {},
   "outputs": [],
   "source": []
  }
 ],
 "metadata": {
  "kernelspec": {
   "display_name": "Python 3 (ipykernel)",
   "language": "python",
   "name": "python3"
  },
  "language_info": {
   "codemirror_mode": {
    "name": "ipython",
    "version": 3
   },
   "file_extension": ".py",
   "mimetype": "text/x-python",
   "name": "python",
   "nbconvert_exporter": "python",
   "pygments_lexer": "ipython3",
   "version": "3.11.5"
  }
 },
 "nbformat": 4,
 "nbformat_minor": 5
}
