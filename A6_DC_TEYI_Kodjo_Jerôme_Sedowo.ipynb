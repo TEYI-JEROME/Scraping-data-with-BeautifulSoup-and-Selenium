{
 "cells": [
  {
   "cell_type": "markdown",
   "id": "cbaf962c",
   "metadata": {},
   "source": [
    "> TEYI Kodjo Jerôme Sedowo"
   ]
  },
  {
   "cell_type": "markdown",
   "id": "d0fdaf28",
   "metadata": {},
   "source": [
    "* url = 'https://tonaton.com/c_mobile-phones'\n",
    "* scrape data (details, price, location, condition, image_link) over 100 pages \n",
    "* using selenium only and using selenium combined with BeautifulSoup\n",
    "* Clean the data"
   ]
  },
  {
   "cell_type": "markdown",
   "id": "a09f75b0",
   "metadata": {},
   "source": [
    "## USING SELENIUM ONLY"
   ]
  },
  {
   "cell_type": "code",
   "execution_count": 30,
   "id": "b42cbdf8",
   "metadata": {},
   "outputs": [],
   "source": [
    "from selenium import webdriver\n",
    "from selenium.webdriver.common.by import By\n",
    "import pandas as pd"
   ]
  },
  {
   "cell_type": "code",
   "execution_count": 31,
   "id": "780d06da",
   "metadata": {},
   "outputs": [],
   "source": [
    "options = webdriver.ChromeOptions()\n",
    "options.add_argument(\"--headless=new\")\n",
    "driver = webdriver.Chrome(options=options)"
   ]
  },
  {
   "cell_type": "code",
   "execution_count": 33,
   "id": "4416acbc",
   "metadata": {},
   "outputs": [],
   "source": [
    "# create a empty dataframe df\n",
    "df = pd.DataFrame()\n",
    "\n",
    "for p in range(1,101) :\n",
    "    \n",
    "    url = f\"https://tonaton.com/c_mobile-phones?page={p}\"\n",
    "       \n",
    "    driver.get(url)\n",
    "\n",
    "    # find containers \n",
    "    containers = driver.find_elements(By.CSS_SELECTOR, \"[class= 'product__container flex']\")\n",
    "    \n",
    "    \n",
    "    data = []\n",
    "\n",
    "    for container in containers :\n",
    "        try :\n",
    "            # get the details \n",
    "            details = container.find_element(By.CLASS_NAME, 'product__description').text\n",
    "\n",
    "            # get the price \n",
    "            price = container.find_element(By.CLASS_NAME, \"product__title\").text.replace(\"GH₵ \",\"\").replace(\",\",\"\")\n",
    "\n",
    "\n",
    "            # get the location\n",
    "            location =  container.find_element(By.CLASS_NAME, \"product__location\").text\n",
    "\n",
    "            # get the condition\n",
    "\n",
    "            condition = container.find_element(By.CSS_SELECTOR, \"[class= 'product__tags flex wrap']\").text\n",
    "\n",
    "            # image Link\n",
    "\n",
    "            image_link = container.find_element(By.CSS_SELECTOR, \"[class = 'product__image']\").find_element(By.TAG_NAME, \"img\").get_attribute('src')\n",
    "\n",
    "            dic = { 'details':details,\n",
    "                   'price':price,\n",
    "                   'location':location,\n",
    "                   'condition':condition,\n",
    "                  'image_link':image_link}\n",
    "\n",
    "            data.append(dic)\n",
    "\n",
    "        except:\n",
    "            pass\n",
    "\n",
    "        DF = pd.DataFrame(data)\n",
    "\n",
    "    df = pd.concat([df,DF], axis = 0).reset_index(drop =True)"
   ]
  },
  {
   "cell_type": "code",
   "execution_count": 34,
   "id": "5553c613",
   "metadata": {},
   "outputs": [
    {
     "data": {
      "text/html": [
       "<div>\n",
       "<style scoped>\n",
       "    .dataframe tbody tr th:only-of-type {\n",
       "        vertical-align: middle;\n",
       "    }\n",
       "\n",
       "    .dataframe tbody tr th {\n",
       "        vertical-align: top;\n",
       "    }\n",
       "\n",
       "    .dataframe thead th {\n",
       "        text-align: right;\n",
       "    }\n",
       "</style>\n",
       "<table border=\"1\" class=\"dataframe\">\n",
       "  <thead>\n",
       "    <tr style=\"text-align: right;\">\n",
       "      <th></th>\n",
       "      <th>details</th>\n",
       "      <th>price</th>\n",
       "      <th>location</th>\n",
       "      <th>condition</th>\n",
       "      <th>image_link</th>\n",
       "    </tr>\n",
       "  </thead>\n",
       "  <tbody>\n",
       "    <tr>\n",
       "      <th>0</th>\n",
       "      <td>New Samsung Galaxy Note 10 Plus 256 GB Black</td>\n",
       "      <td>4000</td>\n",
       "      <td>Greater Accra, Ablekuma</td>\n",
       "      <td>Brand New\\n12 GB\\n6.1 &gt; inches</td>\n",
       "      <td>https://tonaton.com/r/cGljdHVyZXMtZ2hhbmEuamlq...</td>\n",
       "    </tr>\n",
       "    <tr>\n",
       "      <th>1</th>\n",
       "      <td>New Google Pixel 7 128 GB Green</td>\n",
       "      <td>4200</td>\n",
       "      <td>Greater Accra, Accra Metropolitan</td>\n",
       "      <td>Brand New</td>\n",
       "      <td>https://tonaton.com/r/cGljdHVyZXMtZ2hhbmEuamlq...</td>\n",
       "    </tr>\n",
       "    <tr>\n",
       "      <th>2</th>\n",
       "      <td>New Google Pixel 9 Pro XL 256 GB Black</td>\n",
       "      <td>16999</td>\n",
       "      <td>Ashanti, Kumasi Metropolitan</td>\n",
       "      <td>Brand New</td>\n",
       "      <td>https://tonaton.com/r/cGljdHVyZXMtZ2hhbmEuamlq...</td>\n",
       "    </tr>\n",
       "    <tr>\n",
       "      <th>3</th>\n",
       "      <td>New Huawei Y9 2019 128 GB Black</td>\n",
       "      <td>1090</td>\n",
       "      <td>Greater Accra, Roman Ridge</td>\n",
       "      <td>Brand New</td>\n",
       "      <td>https://tonaton.com/r/cGljdHVyZXMtZ2hhbmEuamlq...</td>\n",
       "    </tr>\n",
       "    <tr>\n",
       "      <th>4</th>\n",
       "      <td>New Apple iPhone 15 Pro Max 256 GB Gray</td>\n",
       "      <td>12000</td>\n",
       "      <td>Greater Accra, Accra Metropolitan</td>\n",
       "      <td>Brand New</td>\n",
       "      <td>https://tonaton.com/r/cGljdHVyZXMtZ2hhbmEuamlq...</td>\n",
       "    </tr>\n",
       "  </tbody>\n",
       "</table>\n",
       "</div>"
      ],
      "text/plain": [
       "                                        details  price  \\\n",
       "0  New Samsung Galaxy Note 10 Plus 256 GB Black   4000   \n",
       "1               New Google Pixel 7 128 GB Green   4200   \n",
       "2        New Google Pixel 9 Pro XL 256 GB Black  16999   \n",
       "3               New Huawei Y9 2019 128 GB Black   1090   \n",
       "4       New Apple iPhone 15 Pro Max 256 GB Gray  12000   \n",
       "\n",
       "                            location                       condition  \\\n",
       "0            Greater Accra, Ablekuma  Brand New\\n12 GB\\n6.1 > inches   \n",
       "1  Greater Accra, Accra Metropolitan                       Brand New   \n",
       "2       Ashanti, Kumasi Metropolitan                       Brand New   \n",
       "3         Greater Accra, Roman Ridge                       Brand New   \n",
       "4  Greater Accra, Accra Metropolitan                       Brand New   \n",
       "\n",
       "                                          image_link  \n",
       "0  https://tonaton.com/r/cGljdHVyZXMtZ2hhbmEuamlq...  \n",
       "1  https://tonaton.com/r/cGljdHVyZXMtZ2hhbmEuamlq...  \n",
       "2  https://tonaton.com/r/cGljdHVyZXMtZ2hhbmEuamlq...  \n",
       "3  https://tonaton.com/r/cGljdHVyZXMtZ2hhbmEuamlq...  \n",
       "4  https://tonaton.com/r/cGljdHVyZXMtZ2hhbmEuamlq...  "
      ]
     },
     "execution_count": 34,
     "metadata": {},
     "output_type": "execute_result"
    }
   ],
   "source": [
    "df.head()"
   ]
  },
  {
   "cell_type": "code",
   "execution_count": 35,
   "id": "931ff497",
   "metadata": {},
   "outputs": [
    {
     "name": "stdout",
     "output_type": "stream",
     "text": [
      "<class 'pandas.core.frame.DataFrame'>\n",
      "RangeIndex: 1800 entries, 0 to 1799\n",
      "Data columns (total 5 columns):\n",
      " #   Column      Non-Null Count  Dtype \n",
      "---  ------      --------------  ----- \n",
      " 0   details     1800 non-null   object\n",
      " 1   price       1800 non-null   object\n",
      " 2   location    1800 non-null   object\n",
      " 3   condition   1800 non-null   object\n",
      " 4   image_link  1800 non-null   object\n",
      "dtypes: object(5)\n",
      "memory usage: 70.4+ KB\n"
     ]
    }
   ],
   "source": [
    "df.info()"
   ]
  },
  {
   "cell_type": "code",
   "execution_count": 36,
   "id": "5300a4c1",
   "metadata": {},
   "outputs": [],
   "source": [
    "df['price'] = df['price'].astype('int')"
   ]
  },
  {
   "cell_type": "code",
   "execution_count": 37,
   "id": "864d3ecb",
   "metadata": {},
   "outputs": [
    {
     "data": {
      "text/plain": [
       "0"
      ]
     },
     "execution_count": 37,
     "metadata": {},
     "output_type": "execute_result"
    }
   ],
   "source": [
    "df.duplicated().sum().sum()"
   ]
  },
  {
   "cell_type": "code",
   "execution_count": 38,
   "id": "b3a075c6",
   "metadata": {},
   "outputs": [
    {
     "data": {
      "text/plain": [
       "0"
      ]
     },
     "execution_count": 38,
     "metadata": {},
     "output_type": "execute_result"
    }
   ],
   "source": [
    "df.isna().any().sum()"
   ]
  },
  {
   "cell_type": "code",
   "execution_count": 39,
   "id": "dfbf5291",
   "metadata": {},
   "outputs": [
    {
     "data": {
      "text/plain": [
       "details       object\n",
       "price          int32\n",
       "location      object\n",
       "condition     object\n",
       "image_link    object\n",
       "dtype: object"
      ]
     },
     "execution_count": 39,
     "metadata": {},
     "output_type": "execute_result"
    }
   ],
   "source": [
    "df.dtypes"
   ]
  },
  {
   "cell_type": "code",
   "execution_count": 40,
   "id": "c3d57403",
   "metadata": {},
   "outputs": [],
   "source": [
    "df.to_excel('selenium_data_phone.xlsx', index = False, header = True)"
   ]
  },
  {
   "cell_type": "code",
   "execution_count": null,
   "id": "40946bef",
   "metadata": {},
   "outputs": [],
   "source": []
  },
  {
   "cell_type": "markdown",
   "id": "7de2d44f",
   "metadata": {},
   "source": [
    "## using selenium combined with BeautifulSoup"
   ]
  },
  {
   "cell_type": "code",
   "execution_count": 11,
   "id": "d6e7a808",
   "metadata": {},
   "outputs": [],
   "source": [
    "# import Beautifulsoup\n",
    "from bs4 import BeautifulSoup as bs"
   ]
  },
  {
   "cell_type": "code",
   "execution_count": 12,
   "id": "9f189fce",
   "metadata": {},
   "outputs": [],
   "source": [
    "df_2 = pd.DataFrame()\n",
    "\n",
    "for p in range(1,101) :\n",
    "    \n",
    "    url = f\"https://tonaton.com/c_mobile-phones?page={p}\"\n",
    "    \n",
    "    driver.get(url)\n",
    "    \n",
    "    # get the code \n",
    "    \n",
    "    res = driver.page_source\n",
    "    \n",
    "    # store the code in a Beautifulsoup objet \n",
    "    \n",
    "    soup = bs(res, 'html.parser')\n",
    "    \n",
    "    # find containers\n",
    "    containers = soup.find_all('div', class_ = 'product__container flex')\n",
    "    \n",
    "    data = []\n",
    "    \n",
    "    for container in containers :\n",
    "        \n",
    "        try :\n",
    "        \n",
    "            details = container.find('p', class_ = 'product__description').text\n",
    "\n",
    "            price = container.find('span', class_ = \"product__title\").text.replace(\"GH₵ \",\"\").replace(\",\",\"\")\n",
    "\n",
    "            # get the location\n",
    "\n",
    "            location =  container.find('p', class_ = \"product__location\").text\n",
    "\n",
    "            condition = container.find('div', class_ = \"product__tags flex wrap\").text\n",
    "\n",
    "            image_link = container.find('div', class_ = \"product__image\").img['src']\n",
    "\n",
    "            dic = { 'details':details,\n",
    "                   'price':price,\n",
    "                   'location':location,\n",
    "                   'condition':condition,\n",
    "                  'image_link':image_link}\n",
    "\n",
    "            data.append(dic) \n",
    "        except:\n",
    "            pass\n",
    "        \n",
    "        DF = pd.DataFrame(data)\n",
    "        \n",
    "    df_2 = pd.concat([df_2,DF], axis = 0).reset_index(drop = True)"
   ]
  },
  {
   "cell_type": "code",
   "execution_count": 13,
   "id": "736276ee",
   "metadata": {},
   "outputs": [
    {
     "data": {
      "text/html": [
       "<div>\n",
       "<style scoped>\n",
       "    .dataframe tbody tr th:only-of-type {\n",
       "        vertical-align: middle;\n",
       "    }\n",
       "\n",
       "    .dataframe tbody tr th {\n",
       "        vertical-align: top;\n",
       "    }\n",
       "\n",
       "    .dataframe thead th {\n",
       "        text-align: right;\n",
       "    }\n",
       "</style>\n",
       "<table border=\"1\" class=\"dataframe\">\n",
       "  <thead>\n",
       "    <tr style=\"text-align: right;\">\n",
       "      <th></th>\n",
       "      <th>details</th>\n",
       "      <th>price</th>\n",
       "      <th>location</th>\n",
       "      <th>condition</th>\n",
       "      <th>image_link</th>\n",
       "    </tr>\n",
       "  </thead>\n",
       "  <tbody>\n",
       "    <tr>\n",
       "      <th>0</th>\n",
       "      <td>New Samsung Galaxy Note 10 Plus 256 GB Black</td>\n",
       "      <td>4000</td>\n",
       "      <td>Greater Accra, Ablekuma</td>\n",
       "      <td>Brand New 12 GB 6.1 &gt; inches</td>\n",
       "      <td>https://tonaton.com/r/cGljdHVyZXMtZ2hhbmEuamlq...</td>\n",
       "    </tr>\n",
       "    <tr>\n",
       "      <th>1</th>\n",
       "      <td>New Google Pixel 7 128 GB Green</td>\n",
       "      <td>4200</td>\n",
       "      <td>Greater Accra, Accra Metropolitan</td>\n",
       "      <td>Brand New</td>\n",
       "      <td>https://tonaton.com/r/cGljdHVyZXMtZ2hhbmEuamlq...</td>\n",
       "    </tr>\n",
       "    <tr>\n",
       "      <th>2</th>\n",
       "      <td>New Google Pixel 9 Pro XL 256 GB Black</td>\n",
       "      <td>16999</td>\n",
       "      <td>Ashanti, Kumasi Metropolitan</td>\n",
       "      <td>Brand New</td>\n",
       "      <td>https://tonaton.com/r/cGljdHVyZXMtZ2hhbmEuamlq...</td>\n",
       "    </tr>\n",
       "    <tr>\n",
       "      <th>3</th>\n",
       "      <td>New Huawei Y9 2019 128 GB Black</td>\n",
       "      <td>1090</td>\n",
       "      <td>Greater Accra, Roman Ridge</td>\n",
       "      <td>Brand New</td>\n",
       "      <td>https://tonaton.com/r/cGljdHVyZXMtZ2hhbmEuamlq...</td>\n",
       "    </tr>\n",
       "    <tr>\n",
       "      <th>4</th>\n",
       "      <td>New Apple iPhone 15 Pro Max 256 GB Gray</td>\n",
       "      <td>12000</td>\n",
       "      <td>Greater Accra, Accra Metropolitan</td>\n",
       "      <td>Brand New</td>\n",
       "      <td>https://tonaton.com/r/cGljdHVyZXMtZ2hhbmEuamlq...</td>\n",
       "    </tr>\n",
       "  </tbody>\n",
       "</table>\n",
       "</div>"
      ],
      "text/plain": [
       "                                        details  price  \\\n",
       "0  New Samsung Galaxy Note 10 Plus 256 GB Black   4000   \n",
       "1               New Google Pixel 7 128 GB Green   4200   \n",
       "2        New Google Pixel 9 Pro XL 256 GB Black  16999   \n",
       "3               New Huawei Y9 2019 128 GB Black   1090   \n",
       "4       New Apple iPhone 15 Pro Max 256 GB Gray  12000   \n",
       "\n",
       "                            location                      condition  \\\n",
       "0            Greater Accra, Ablekuma  Brand New 12 GB 6.1 > inches    \n",
       "1  Greater Accra, Accra Metropolitan                     Brand New    \n",
       "2       Ashanti, Kumasi Metropolitan                     Brand New    \n",
       "3         Greater Accra, Roman Ridge                     Brand New    \n",
       "4  Greater Accra, Accra Metropolitan                     Brand New    \n",
       "\n",
       "                                          image_link  \n",
       "0  https://tonaton.com/r/cGljdHVyZXMtZ2hhbmEuamlq...  \n",
       "1  https://tonaton.com/r/cGljdHVyZXMtZ2hhbmEuamlq...  \n",
       "2  https://tonaton.com/r/cGljdHVyZXMtZ2hhbmEuamlq...  \n",
       "3  https://tonaton.com/r/cGljdHVyZXMtZ2hhbmEuamlq...  \n",
       "4  https://tonaton.com/r/cGljdHVyZXMtZ2hhbmEuamlq...  "
      ]
     },
     "execution_count": 13,
     "metadata": {},
     "output_type": "execute_result"
    }
   ],
   "source": [
    "df_2.head()"
   ]
  },
  {
   "cell_type": "code",
   "execution_count": 14,
   "id": "bfbb7c35",
   "metadata": {},
   "outputs": [
    {
     "name": "stdout",
     "output_type": "stream",
     "text": [
      "<class 'pandas.core.frame.DataFrame'>\n",
      "RangeIndex: 1800 entries, 0 to 1799\n",
      "Data columns (total 5 columns):\n",
      " #   Column      Non-Null Count  Dtype \n",
      "---  ------      --------------  ----- \n",
      " 0   details     1800 non-null   object\n",
      " 1   price       1800 non-null   object\n",
      " 2   location    1800 non-null   object\n",
      " 3   condition   1800 non-null   object\n",
      " 4   image_link  1800 non-null   object\n",
      "dtypes: object(5)\n",
      "memory usage: 70.4+ KB\n"
     ]
    }
   ],
   "source": [
    "df_2.info()"
   ]
  },
  {
   "cell_type": "code",
   "execution_count": 15,
   "id": "7327433b",
   "metadata": {},
   "outputs": [
    {
     "data": {
      "text/plain": [
       "0"
      ]
     },
     "execution_count": 15,
     "metadata": {},
     "output_type": "execute_result"
    }
   ],
   "source": [
    "df_2.duplicated().sum().sum()"
   ]
  },
  {
   "cell_type": "code",
   "execution_count": 16,
   "id": "40c440c7",
   "metadata": {},
   "outputs": [],
   "source": [
    "df_2.drop_duplicates(inplace = True)"
   ]
  },
  {
   "cell_type": "code",
   "execution_count": 17,
   "id": "e05d9498",
   "metadata": {},
   "outputs": [
    {
     "data": {
      "text/plain": [
       "0"
      ]
     },
     "execution_count": 17,
     "metadata": {},
     "output_type": "execute_result"
    }
   ],
   "source": [
    "df_2.duplicated().sum()"
   ]
  },
  {
   "cell_type": "code",
   "execution_count": 18,
   "id": "a7729af3",
   "metadata": {},
   "outputs": [
    {
     "data": {
      "text/plain": [
       "0"
      ]
     },
     "execution_count": 18,
     "metadata": {},
     "output_type": "execute_result"
    }
   ],
   "source": [
    "df_2.isnull().any().sum()"
   ]
  },
  {
   "cell_type": "code",
   "execution_count": 19,
   "id": "86968e77",
   "metadata": {},
   "outputs": [
    {
     "data": {
      "text/plain": [
       "array(['4000', '4200', '16999', '1090', '12000', '1980', '750', '7600',\n",
       "       '850', '10500', '9850', '1250', '1490', '3580', '1050', '1580',\n",
       "       '4300', '999', '820', '11000', '420', '11900', '4849', '1100',\n",
       "       '500', '680', '1190', '8530', '1690', '450', '1290', '580', '2069',\n",
       "       '3500', '2690', '8300', '2790', '9500', '8500', '19000', '4150',\n",
       "       '6000', '5800', '7300', '3530', '1000', '2050', '1399', '1700',\n",
       "       '7950', '1750', '7700', '2450', '2200', '1550', '1800', '1500',\n",
       "       '4800', '1280', '2320', '10300', '2000', '2100', '5500', '15500',\n",
       "       '1200', '7400', '3600', '2600', '2400', '2210', '1400', '7000',\n",
       "       '5000', '9999', '4500', '14700', '440', '2800', '7550', '2995',\n",
       "       '7770', '2850', '4700', '2650', '11500', '3400', '12300', '6230',\n",
       "       '6720', '5520', '1900', '5300', '1699', '1150', '880', '1777',\n",
       "       '10750', '1650', '190', '2700', '6500', '7800', '2900', '2199',\n",
       "       '4750', '17000', '9600', '4960', '15400', '19500', '9800', '6800',\n",
       "       '3300', '5790', '3250', '7900', '7500', '6300', '790', '2500',\n",
       "       '3200', '7250', '2980', '2300', '16500', '5700', '23000', '990',\n",
       "       '24500', '5200', '26500', '3690', '455', '16760', '3550', '9100',\n",
       "       '8000', '2499', '6150', '1950', '1350', '920', '6100', '1680',\n",
       "       '4550', '10000', '2590', '6440', '3800', '2680', '5250', '3390',\n",
       "       '2150', '3100', '4380', '7750', '5850', '6200', '2250', '8200',\n",
       "       '9900', '2350', '400', '1380', '15000', '1300', '12500', '900',\n",
       "       '16000', '490', '6700', '1600', '650', '3450', '3950', '3750',\n",
       "       '1570', '2550', '6400', '3700', '4900', '6999', '2599', '3320',\n",
       "       '1450', '1165', '470', '4799', '2920', '1499', '18900', '360',\n",
       "       '7670', '770', '2480', '530', '33000', '3900', '8800', '8430',\n",
       "       '6770', '3000', '5100', '14000', '200', '800', '9000', '4050',\n",
       "       '6600', '25000', '5499', '1799', '2399', '5350', '367', '7523',\n",
       "       '16200', '3150', '5150', '10777', '1480', '12800', '8400', '480',\n",
       "       '195', '945', '1780', '2750', '1899', '13000', '590', '6499',\n",
       "       '3280', '980', '3399', '1850', '570', '1520', '830', '3650',\n",
       "       '8700', '20213', '1080', '4833', '280', '720', '295', '940',\n",
       "       '4350', '3999', '1790', '8350', '14200', '9499', '6900', '28500',\n",
       "       '14500', '749', '2950', '2260', '1930', '15900', '1630', '9650',\n",
       "       '2799', '10400', '670', '4400', '780', '395', '5450', '7100',\n",
       "       '4100', '9300', '7790', '6350', '5650', '3499', '12600', '7999',\n",
       "       '2990', '2880', '5600', '12222', '1060', '3888', '5950', '9950',\n",
       "       '13500', '8050', '9350', '3285', '5599', '14800', '685', '1660',\n",
       "       '2290', '26000', '3850', '6550', '3350', '8100', '18500', '6265',\n",
       "       '2770', '4950', '405', '899', '9200', '3360', '3333', '550',\n",
       "       '1560', '8870', '17500', '399', '5750', '2280', '6750', '9550',\n",
       "       '5999', '1349', '2890', '7850', '430', '13200', '622', '4650',\n",
       "       '8600', '4999', '5460', '6650', '1870', '9400', '460', '410',\n",
       "       '9700', '950', '2560', '5400', '1849', '2640', '10111', '4080',\n",
       "       '150', '6399', '1590', '230', '3799', '4490', '1230', '2010',\n",
       "       '840', '2899', '22000', '2999', '6450', '18000', '9590', '2580',\n",
       "       '11800', '3955', '27000', '4899', '960', '1320', '10560', '11999',\n",
       "       '16300', '13800', '8900', '3849', '10100', '7820', '8250', '5900',\n",
       "       '1940', '3330', '29000', '14444', '4450', '1720', '1988', '1830',\n",
       "       '6370', '2820', '7200', '8150', '499', '3730', '2080', '2760',\n",
       "       '4980', '555', '3490', '2340', '1370', '666', '707', '2430',\n",
       "       '6250', '1770', '12280', '220', '7199', '1470', '250', '4970',\n",
       "       '4990', '1640', '2380', '10730', '2190', '5480', '4390', '4250',\n",
       "       '1360', '14999', '5799', '630', '1170', '1740', '8650', '21500',\n",
       "       '2490', '10700', '16800', '199', '4480', '10840', '12200', '549',\n",
       "       '1990', '7450', '5620', '600', '4499', '15350', '699', '2620',\n",
       "       '11200', '3555', '17100', '9685', '380', '2610', '2170', '2699',\n",
       "       '5470', '21000', '3299', '13399', '4600', '2030', '2370', '24000',\n",
       "       '135', '5399', '10580', '2090', '10200', '1120', '10850', '700',\n",
       "       '15380', '2429', '9399', '6545', '6310', '3199', '14400', '2240',\n",
       "       '1420', '3599', '860', '10800', '1820', '1999', '649', '3370',\n",
       "       '1860', '1598', '14499', '5270', '9960', '1862', '1960', '3510',\n",
       "       '3380', '949', '890', '3090', '180', '970', '7350', '18350',\n",
       "       '24999', '7150', '10450', '1330', '1683', '6050', '1880', '810',\n",
       "       '7050', '2777', '5550'], dtype=object)"
      ]
     },
     "execution_count": 19,
     "metadata": {},
     "output_type": "execute_result"
    }
   ],
   "source": [
    "df_2['price'].unique()"
   ]
  },
  {
   "cell_type": "code",
   "execution_count": 20,
   "id": "d5a205fe",
   "metadata": {},
   "outputs": [],
   "source": [
    "df_2['price'] = df_2['price'].astype('int')"
   ]
  },
  {
   "cell_type": "code",
   "execution_count": 21,
   "id": "a8c7b0e6",
   "metadata": {},
   "outputs": [
    {
     "data": {
      "text/plain": [
       "array([ 4000,  4200, 16999,  1090, 12000,  1980,   750,  7600,   850,\n",
       "       10500,  9850,  1250,  1490,  3580,  1050,  1580,  4300,   999,\n",
       "         820, 11000,   420, 11900,  4849,  1100,   500,   680,  1190,\n",
       "        8530,  1690,   450,  1290,   580,  2069,  3500,  2690,  8300,\n",
       "        2790,  9500,  8500, 19000,  4150,  6000,  5800,  7300,  3530,\n",
       "        1000,  2050,  1399,  1700,  7950,  1750,  7700,  2450,  2200,\n",
       "        1550,  1800,  1500,  4800,  1280,  2320, 10300,  2000,  2100,\n",
       "        5500, 15500,  1200,  7400,  3600,  2600,  2400,  2210,  1400,\n",
       "        7000,  5000,  9999,  4500, 14700,   440,  2800,  7550,  2995,\n",
       "        7770,  2850,  4700,  2650, 11500,  3400, 12300,  6230,  6720,\n",
       "        5520,  1900,  5300,  1699,  1150,   880,  1777, 10750,  1650,\n",
       "         190,  2700,  6500,  7800,  2900,  2199,  4750, 17000,  9600,\n",
       "        4960, 15400, 19500,  9800,  6800,  3300,  5790,  3250,  7900,\n",
       "        7500,  6300,   790,  2500,  3200,  7250,  2980,  2300, 16500,\n",
       "        5700, 23000,   990, 24500,  5200, 26500,  3690,   455, 16760,\n",
       "        3550,  9100,  8000,  2499,  6150,  1950,  1350,   920,  6100,\n",
       "        1680,  4550, 10000,  2590,  6440,  3800,  2680,  5250,  3390,\n",
       "        2150,  3100,  4380,  7750,  5850,  6200,  2250,  8200,  9900,\n",
       "        2350,   400,  1380, 15000,  1300, 12500,   900, 16000,   490,\n",
       "        6700,  1600,   650,  3450,  3950,  3750,  1570,  2550,  6400,\n",
       "        3700,  4900,  6999,  2599,  3320,  1450,  1165,   470,  4799,\n",
       "        2920,  1499, 18900,   360,  7670,   770,  2480,   530, 33000,\n",
       "        3900,  8800,  8430,  6770,  3000,  5100, 14000,   200,   800,\n",
       "        9000,  4050,  6600, 25000,  5499,  1799,  2399,  5350,   367,\n",
       "        7523, 16200,  3150,  5150, 10777,  1480, 12800,  8400,   480,\n",
       "         195,   945,  1780,  2750,  1899, 13000,   590,  6499,  3280,\n",
       "         980,  3399,  1850,   570,  1520,   830,  3650,  8700, 20213,\n",
       "        1080,  4833,   280,   720,   295,   940,  4350,  3999,  1790,\n",
       "        8350, 14200,  9499,  6900, 28500, 14500,   749,  2950,  2260,\n",
       "        1930, 15900,  1630,  9650,  2799, 10400,   670,  4400,   780,\n",
       "         395,  5450,  7100,  4100,  9300,  7790,  6350,  5650,  3499,\n",
       "       12600,  7999,  2990,  2880,  5600, 12222,  1060,  3888,  5950,\n",
       "        9950, 13500,  8050,  9350,  3285,  5599, 14800,   685,  1660,\n",
       "        2290, 26000,  3850,  6550,  3350,  8100, 18500,  6265,  2770,\n",
       "        4950,   405,   899,  9200,  3360,  3333,   550,  1560,  8870,\n",
       "       17500,   399,  5750,  2280,  6750,  9550,  5999,  1349,  2890,\n",
       "        7850,   430, 13200,   622,  4650,  8600,  4999,  5460,  6650,\n",
       "        1870,  9400,   460,   410,  9700,   950,  2560,  5400,  1849,\n",
       "        2640, 10111,  4080,   150,  6399,  1590,   230,  3799,  4490,\n",
       "        1230,  2010,   840,  2899, 22000,  2999,  6450, 18000,  9590,\n",
       "        2580, 11800,  3955, 27000,  4899,   960,  1320, 10560, 11999,\n",
       "       16300, 13800,  8900,  3849, 10100,  7820,  8250,  5900,  1940,\n",
       "        3330, 29000, 14444,  4450,  1720,  1988,  1830,  6370,  2820,\n",
       "        7200,  8150,   499,  3730,  2080,  2760,  4980,   555,  3490,\n",
       "        2340,  1370,   666,   707,  2430,  6250,  1770, 12280,   220,\n",
       "        7199,  1470,   250,  4970,  4990,  1640,  2380, 10730,  2190,\n",
       "        5480,  4390,  4250,  1360, 14999,  5799,   630,  1170,  1740,\n",
       "        8650, 21500,  2490, 10700, 16800,   199,  4480, 10840, 12200,\n",
       "         549,  1990,  7450,  5620,   600,  4499, 15350,   699,  2620,\n",
       "       11200,  3555, 17100,  9685,   380,  2610,  2170,  2699,  5470,\n",
       "       21000,  3299, 13399,  4600,  2030,  2370, 24000,   135,  5399,\n",
       "       10580,  2090, 10200,  1120, 10850,   700, 15380,  2429,  9399,\n",
       "        6545,  6310,  3199, 14400,  2240,  1420,  3599,   860, 10800,\n",
       "        1820,  1999,   649,  3370,  1860,  1598, 14499,  5270,  9960,\n",
       "        1862,  1960,  3510,  3380,   949,   890,  3090,   180,   970,\n",
       "        7350, 18350, 24999,  7150, 10450,  1330,  1683,  6050,  1880,\n",
       "         810,  7050,  2777,  5550])"
      ]
     },
     "execution_count": 21,
     "metadata": {},
     "output_type": "execute_result"
    }
   ],
   "source": [
    "df_2['price'].unique()"
   ]
  },
  {
   "cell_type": "code",
   "execution_count": 22,
   "id": "b0f1800e",
   "metadata": {},
   "outputs": [
    {
     "data": {
      "text/plain": [
       "details       object\n",
       "price          int32\n",
       "location      object\n",
       "condition     object\n",
       "image_link    object\n",
       "dtype: object"
      ]
     },
     "execution_count": 22,
     "metadata": {},
     "output_type": "execute_result"
    }
   ],
   "source": [
    "df_2.dtypes"
   ]
  },
  {
   "cell_type": "code",
   "execution_count": 23,
   "id": "78651f87",
   "metadata": {},
   "outputs": [],
   "source": [
    "df_2.to_excel('selenium_and_Beautiful_Soup_data_phone.xlsx', index = False, header = True)"
   ]
  },
  {
   "cell_type": "markdown",
   "id": "e71ab8d1",
   "metadata": {},
   "source": [
    "# USING SQLT3"
   ]
  },
  {
   "cell_type": "code",
   "execution_count": 27,
   "id": "3e598978",
   "metadata": {},
   "outputs": [
    {
     "data": {
      "text/plain": [
       "<sqlite3.Cursor at 0x1dbbc5f3a40>"
      ]
     },
     "execution_count": 27,
     "metadata": {},
     "output_type": "execute_result"
    }
   ],
   "source": [
    "#import sqlite3\n",
    "\n",
    "import sqlite3\n",
    "\n",
    "# Create a connection with a database (cell_phones.db)\n",
    "\n",
    "conn = sqlite3.connect('phone_data.db')\n",
    "\n",
    "# create a cursor (allows to interact with the database)\n",
    "\n",
    "c = conn.cursor()\n",
    "\n",
    "# create a table\n",
    "\n",
    "c.execute('''CREATE TABLE PHONE_DATA_1(details, price, location, condition, image_link)''')"
   ]
  },
  {
   "cell_type": "code",
   "execution_count": 46,
   "id": "d5d74797",
   "metadata": {},
   "outputs": [],
   "source": [
    "# create a empty dataframe df\n",
    "df = pd.DataFrame()\n",
    "\n",
    "for p in range(1,101) :\n",
    "    \n",
    "    url = f\"https://tonaton.com/c_mobile-phones?page={p}\"\n",
    "       \n",
    "    driver.get(url)\n",
    "\n",
    "    # find containers \n",
    "    containers = driver.find_elements(By.CSS_SELECTOR, \"[class= 'product__container flex']\")\n",
    "\n",
    "    for container in containers :\n",
    "        try :\n",
    "            # get the details \n",
    "            details = container.find_element(By.CLASS_NAME, 'product__description').text\n",
    "\n",
    "            # get the price \n",
    "            price = container.find_element(By.CLASS_NAME, \"product__title\").text.replace(\"GH₵ \",\"\").replace(\",\",\"\")\n",
    "\n",
    "\n",
    "            # get the location\n",
    "            location =  container.find_element(By.CLASS_NAME, \"product__location\").text\n",
    "\n",
    "            # get the condition\n",
    "\n",
    "            condition = container.find_element(By.CSS_SELECTOR, \"[class= 'product__tags flex wrap']\").text\n",
    "\n",
    "            # image Link\n",
    "\n",
    "            image_link = container.find_element(By.CSS_SELECTOR, \"[class = 'product__image']\").find_element(By.TAG_NAME, \"img\").get_attribute('src')\n",
    "\n",
    "            c.execute('''INSERT INTO PHONE_DATA_1 VALUES(?,?,?,?,?)''', (details, price, location, condition, image_link))\n",
    "        \n",
    "            c.commit()\n",
    "            \n",
    "        except:\n",
    "            pass"
   ]
  },
  {
   "cell_type": "code",
   "execution_count": 47,
   "id": "0a3e9f41",
   "metadata": {},
   "outputs": [],
   "source": [
    "# convert the table into a dataframe\n",
    "import pandas as pd\n",
    "\n",
    "df = pd.read_sql_query('''SELECT * FROM PHONE_DATA_1''', conn)"
   ]
  },
  {
   "cell_type": "code",
   "execution_count": 48,
   "id": "7bf23e3b",
   "metadata": {},
   "outputs": [
    {
     "data": {
      "text/html": [
       "<div>\n",
       "<style scoped>\n",
       "    .dataframe tbody tr th:only-of-type {\n",
       "        vertical-align: middle;\n",
       "    }\n",
       "\n",
       "    .dataframe tbody tr th {\n",
       "        vertical-align: top;\n",
       "    }\n",
       "\n",
       "    .dataframe thead th {\n",
       "        text-align: right;\n",
       "    }\n",
       "</style>\n",
       "<table border=\"1\" class=\"dataframe\">\n",
       "  <thead>\n",
       "    <tr style=\"text-align: right;\">\n",
       "      <th></th>\n",
       "      <th>details</th>\n",
       "      <th>price</th>\n",
       "      <th>location</th>\n",
       "      <th>condition</th>\n",
       "      <th>image_link</th>\n",
       "    </tr>\n",
       "  </thead>\n",
       "  <tbody>\n",
       "    <tr>\n",
       "      <th>0</th>\n",
       "      <td>Apple iPhone 7 Plus 32 GB Black</td>\n",
       "      <td>1550</td>\n",
       "      <td>Greater Accra, Achimota</td>\n",
       "      <td>Used</td>\n",
       "      <td>https://tonaton.com/r/cGljdHVyZXMtZ2hhbmEuamlq...</td>\n",
       "    </tr>\n",
       "    <tr>\n",
       "      <th>1</th>\n",
       "      <td>New Samsung Galaxy S10 128 GB Black</td>\n",
       "      <td>3200</td>\n",
       "      <td>Greater Accra, Dworwulu</td>\n",
       "      <td>Brand New\\n8 GB\\n6.1 &gt; inches</td>\n",
       "      <td>https://tonaton.com/r/cGljdHVyZXMtZ2hhbmEuamlq...</td>\n",
       "    </tr>\n",
       "    <tr>\n",
       "      <th>2</th>\n",
       "      <td>Apple iPhone 13 Pro Max 256 GB Gold</td>\n",
       "      <td>7050</td>\n",
       "      <td>Greater Accra, Accra Metropolitan</td>\n",
       "      <td>Used</td>\n",
       "      <td>https://tonaton.com/r/cGljdHVyZXMtZ2hhbmEuamlq...</td>\n",
       "    </tr>\n",
       "    <tr>\n",
       "      <th>3</th>\n",
       "      <td>Samsung Galaxy A53 5G 128 GB Black</td>\n",
       "      <td>2500</td>\n",
       "      <td>Greater Accra, Accra Metropolitan</td>\n",
       "      <td>Used</td>\n",
       "      <td>https://tonaton.com/r/cGljdHVyZXMtZ2hhbmEuamlq...</td>\n",
       "    </tr>\n",
       "    <tr>\n",
       "      <th>4</th>\n",
       "      <td>New Samsung Galaxy S6 edge 32 GB</td>\n",
       "      <td>1100</td>\n",
       "      <td>Greater Accra, Circle</td>\n",
       "      <td>Brand New\\n5.1-6 inches</td>\n",
       "      <td>https://tonaton.com/r/cGljdHVyZXMtZ2hhbmEuamlq...</td>\n",
       "    </tr>\n",
       "  </tbody>\n",
       "</table>\n",
       "</div>"
      ],
      "text/plain": [
       "                               details price  \\\n",
       "0      Apple iPhone 7 Plus 32 GB Black  1550   \n",
       "1  New Samsung Galaxy S10 128 GB Black  3200   \n",
       "2  Apple iPhone 13 Pro Max 256 GB Gold  7050   \n",
       "3   Samsung Galaxy A53 5G 128 GB Black  2500   \n",
       "4     New Samsung Galaxy S6 edge 32 GB  1100   \n",
       "\n",
       "                            location                      condition  \\\n",
       "0            Greater Accra, Achimota                           Used   \n",
       "1            Greater Accra, Dworwulu  Brand New\\n8 GB\\n6.1 > inches   \n",
       "2  Greater Accra, Accra Metropolitan                           Used   \n",
       "3  Greater Accra, Accra Metropolitan                           Used   \n",
       "4              Greater Accra, Circle        Brand New\\n5.1-6 inches   \n",
       "\n",
       "                                          image_link  \n",
       "0  https://tonaton.com/r/cGljdHVyZXMtZ2hhbmEuamlq...  \n",
       "1  https://tonaton.com/r/cGljdHVyZXMtZ2hhbmEuamlq...  \n",
       "2  https://tonaton.com/r/cGljdHVyZXMtZ2hhbmEuamlq...  \n",
       "3  https://tonaton.com/r/cGljdHVyZXMtZ2hhbmEuamlq...  \n",
       "4  https://tonaton.com/r/cGljdHVyZXMtZ2hhbmEuamlq...  "
      ]
     },
     "execution_count": 48,
     "metadata": {},
     "output_type": "execute_result"
    }
   ],
   "source": [
    "df.head()"
   ]
  },
  {
   "cell_type": "code",
   "execution_count": null,
   "id": "60a250cb",
   "metadata": {},
   "outputs": [],
   "source": []
  }
 ],
 "metadata": {
  "kernelspec": {
   "display_name": "Python 3 (ipykernel)",
   "language": "python",
   "name": "python3"
  },
  "language_info": {
   "codemirror_mode": {
    "name": "ipython",
    "version": 3
   },
   "file_extension": ".py",
   "mimetype": "text/x-python",
   "name": "python",
   "nbconvert_exporter": "python",
   "pygments_lexer": "ipython3",
   "version": "3.12.7"
  }
 },
 "nbformat": 4,
 "nbformat_minor": 5
}
