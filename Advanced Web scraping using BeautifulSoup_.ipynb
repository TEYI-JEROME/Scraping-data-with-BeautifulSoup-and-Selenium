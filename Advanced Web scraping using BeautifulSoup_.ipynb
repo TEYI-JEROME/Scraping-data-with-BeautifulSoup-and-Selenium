{
 "cells": [
  {
   "cell_type": "markdown",
   "metadata": {
    "id": "CbATGAuK0vxv"
   },
   "source": [
    "### <font color = 'gold'> Import packages\n"
   ]
  },
  {
   "cell_type": "code",
   "execution_count": 12,
   "metadata": {
    "executionInfo": {
     "elapsed": 1551,
     "status": "ok",
     "timestamp": 1729783598705,
     "user": {
      "displayName": "Abdoul Wahab Diallo",
      "userId": "07970633565109207524"
     },
     "user_tz": 0
    },
    "id": "wd3BqFqfw29_"
   },
   "outputs": [],
   "source": [
    "# import packages\n",
    "from requests import get\n",
    "from bs4 import BeautifulSoup as bs\n",
    "import pandas as pd"
   ]
  },
  {
   "cell_type": "markdown",
   "metadata": {
    "id": "WsqJsdFBKK_S"
   },
   "source": [
    "### <font color = 'gold'> Collect data over one page"
   ]
  },
  {
   "cell_type": "code",
   "execution_count": 13,
   "metadata": {
    "executionInfo": {
     "elapsed": 2818,
     "status": "ok",
     "timestamp": 1729783612295,
     "user": {
      "displayName": "Abdoul Wahab Diallo",
      "userId": "07970633565109207524"
     },
     "user_tz": 0
    },
    "id": "nVub3Jdc-T1Z"
   },
   "outputs": [],
   "source": [
    "# url\n",
    "url = 'https://www.francefleurs.com/11-fleurs-coupees-do-it-yourself'\n",
    "# get the code html of the page using the get function requests\n",
    "res = get(url)\n",
    "# stock the html in a beautifulsoup objet with a html parser (a parser allows to easily navigate through the html code)\n",
    "soup = bs(res.text,'html.parser')"
   ]
  },
  {
   "cell_type": "code",
   "execution_count": 14,
   "metadata": {
    "colab": {
     "base_uri": "https://localhost:8080/"
    },
    "executionInfo": {
     "elapsed": 507,
     "status": "ok",
     "timestamp": 1729783807989,
     "user": {
      "displayName": "Abdoul Wahab Diallo",
      "userId": "07970633565109207524"
     },
     "user_tz": 0
    },
    "id": "HNokzEP1AfAG",
    "outputId": "3c16efc5-b644-4491-e705-2e57be3fab90"
   },
   "outputs": [
    {
     "data": {
      "text/plain": [
       "60"
      ]
     },
     "execution_count": 14,
     "metadata": {},
     "output_type": "execute_result"
    }
   ],
   "source": [
    "# get all containers that contains this information of each flower\n",
    "containers = soup.find_all('li', class_ = 'ajax_block_product col-xs-12 col-sm-6 col-md-4')\n",
    "# length de containers\n",
    "len(containers)"
   ]
  },
  {
   "cell_type": "markdown",
   "metadata": {
    "id": "pjKe9VGZHXSN"
   },
   "source": [
    "First, we will start with one container and scrape the data. In that container, we will first try to get the URL of the container and enter inside the container to scrape the informations needed. After we generalize the scraping to the other containers by using a for loop."
   ]
  },
  {
   "cell_type": "code",
   "execution_count": 24,
   "metadata": {
    "colab": {
     "base_uri": "https://localhost:8080/"
    },
    "executionInfo": {
     "elapsed": 1463,
     "status": "ok",
     "timestamp": 1729787020761,
     "user": {
      "displayName": "Abdoul Wahab Diallo",
      "userId": "07970633565109207524"
     },
     "user_tz": 0
    },
    "id": "s3p_gOnzOxXa",
    "outputId": "71978743-6fb1-4385-89a3-f14e9c83063c"
   },
   "outputs": [
    {
     "name": "stdout",
     "output_type": "stream",
     "text": [
      "Rose branchue bombastic blanche (10 tiges) ------ 27.90 ------ 2.4 ----- 5 ------ https://www.francefleurs.com/17992-large_default/rose-branchue-bombastic-blanche.jpg\n"
     ]
    }
   ],
   "source": [
    "# scrape data from the first container\n",
    "container = containers[0]\n",
    "# get the url of the container\n",
    "link = container.find('a')['href']\n",
    "# get the html code of the container\n",
    "res_c = get(link)\n",
    "# store the html code in a beautifulsoup objet with a html parser (a parser allows to easily navigate through the html code)\n",
    "soup_c = bs(res_c.text, 'html.parser')\n",
    "# get the details\n",
    "details = soup_c.find('div', class_ = \"product-title-flex\").text.strip()\n",
    "\n",
    "# get the price\n",
    "price = soup_c.find('span', class_ = \"price\").text.strip().replace(\" €\", \"\").replace(\",\", \".\")\n",
    "\n",
    "#details_price = details[1]\n",
    "\n",
    "# get the rating\n",
    "rating = soup_c.find('span', class_ = \"ratingValue\").text\n",
    "\n",
    "# get number of opinions\n",
    "num_opinions = soup_c.find('a', class_ = \"netreviewsProductWidgetNewLink\").span.text\n",
    "# get image link\n",
    "\n",
    "image_link = soup_c.find('div', class_ = \"image-block clearfix hidden-xs hidden-sm\").img['src']\n",
    "\n",
    "# print all data for the first container\n",
    "print(details,\"------\",price,\"------\",rating,\"-----\",num_opinions,\"------\",image_link)"
   ]
  },
  {
   "cell_type": "code",
   "execution_count": 15,
   "metadata": {
    "executionInfo": {
     "elapsed": 18149,
     "status": "ok",
     "timestamp": 1729787914226,
     "user": {
      "displayName": "Abdoul Wahab Diallo",
      "userId": "07970633565109207524"
     },
     "user_tz": 0
    },
    "id": "XGxES9sq5MeF"
   },
   "outputs": [],
   "source": [
    "# scrape data from all the containers\n",
    "data = []\n",
    "\n",
    "for container in containers :\n",
    "    try:\n",
    "        \n",
    "        link = container.find('a')['href']\n",
    "        # get the html code of the container\n",
    "        res_c = get(link)\n",
    "        # store the html code in a beautifulsoup objet with a html parser (a parser allows to easily navigate through the html code)\n",
    "        soup_c = bs(res_c.text, 'html.parser')\n",
    "        # get the details\n",
    "        details = soup_c.find('div', class_ = \"product-title-flex\").text.strip()\n",
    "\n",
    "        # get the price\n",
    "        price = soup_c.find('span', class_ = \"price\").text.strip().replace(\" €\", \"\").replace(\",\", \".\")\n",
    "\n",
    "        #details_price = details[1]\n",
    "\n",
    "        # get the rating\n",
    "        rating = soup_c.find('span', class_ = \"ratingValue\").text\n",
    "\n",
    "        # get number of opinions\n",
    "        num_opinions = soup_c.find('a', class_ = \"netreviewsProductWidgetNewLink\").span.text\n",
    "        # get image link\n",
    "\n",
    "        image_link = soup_c.find('div', class_ = \"image-block clearfix hidden-xs hidden-sm\").img['src']\n",
    "        \n",
    "        dic = {'details':details,\n",
    "           'price' : price,\n",
    "           'rating' : rating,\n",
    "            'num_opinions' : num_opinions,\n",
    "            'image_link' : image_link }\n",
    "        data.append(dic)\n",
    "    except:\n",
    "        pass\n",
    "    \n",
    "df = pd.DataFrame(data)"
   ]
  },
  {
   "cell_type": "code",
   "execution_count": 27,
   "metadata": {
    "colab": {
     "base_uri": "https://localhost:8080/",
     "height": 206
    },
    "executionInfo": {
     "elapsed": 404,
     "status": "ok",
     "timestamp": 1729787974627,
     "user": {
      "displayName": "Abdoul Wahab Diallo",
      "userId": "07970633565109207524"
     },
     "user_tz": 0
    },
    "id": "Xoq4d-SwJybQ",
    "outputId": "3a913f29-1dac-41e1-bbc3-2d50a24478b6"
   },
   "outputs": [
    {
     "data": {
      "text/html": [
       "<div>\n",
       "<style scoped>\n",
       "    .dataframe tbody tr th:only-of-type {\n",
       "        vertical-align: middle;\n",
       "    }\n",
       "\n",
       "    .dataframe tbody tr th {\n",
       "        vertical-align: top;\n",
       "    }\n",
       "\n",
       "    .dataframe thead th {\n",
       "        text-align: right;\n",
       "    }\n",
       "</style>\n",
       "<table border=\"1\" class=\"dataframe\">\n",
       "  <thead>\n",
       "    <tr style=\"text-align: right;\">\n",
       "      <th></th>\n",
       "      <th>details</th>\n",
       "      <th>price</th>\n",
       "      <th>rating</th>\n",
       "      <th>num_opinions</th>\n",
       "      <th>image_link</th>\n",
       "    </tr>\n",
       "  </thead>\n",
       "  <tbody>\n",
       "    <tr>\n",
       "      <th>0</th>\n",
       "      <td>Rose branchue bombastic blanche (10 tiges)</td>\n",
       "      <td>27.90</td>\n",
       "      <td>2.4</td>\n",
       "      <td>5</td>\n",
       "      <td>https://www.francefleurs.com/17992-large_defau...</td>\n",
       "    </tr>\n",
       "    <tr>\n",
       "      <th>1</th>\n",
       "      <td>Brassée deuil blanche</td>\n",
       "      <td>29.90</td>\n",
       "      <td>4.2</td>\n",
       "      <td>5</td>\n",
       "      <td>https://www.francefleurs.com/17748-large_defau...</td>\n",
       "    </tr>\n",
       "    <tr>\n",
       "      <th>2</th>\n",
       "      <td>Brassée de fleurs fraîches blanches</td>\n",
       "      <td>16.90</td>\n",
       "      <td>5</td>\n",
       "      <td>2</td>\n",
       "      <td>https://www.francefleurs.com/17742-large_defau...</td>\n",
       "    </tr>\n",
       "    <tr>\n",
       "      <th>3</th>\n",
       "      <td>Roses emballées à l'unité</td>\n",
       "      <td>86.90</td>\n",
       "      <td>4.2</td>\n",
       "      <td>61</td>\n",
       "      <td>https://www.francefleurs.com/10602-large_defau...</td>\n",
       "    </tr>\n",
       "    <tr>\n",
       "      <th>4</th>\n",
       "      <td>Brassée de fleurs fraîches surprise</td>\n",
       "      <td>39.00</td>\n",
       "      <td>3.7</td>\n",
       "      <td>14</td>\n",
       "      <td>https://www.francefleurs.com/15052-large_defau...</td>\n",
       "    </tr>\n",
       "  </tbody>\n",
       "</table>\n",
       "</div>"
      ],
      "text/plain": [
       "                                      details  price rating num_opinions  \\\n",
       "0  Rose branchue bombastic blanche (10 tiges)  27.90    2.4            5   \n",
       "1                       Brassée deuil blanche  29.90    4.2            5   \n",
       "2         Brassée de fleurs fraîches blanches  16.90      5            2   \n",
       "3                   Roses emballées à l'unité  86.90    4.2           61   \n",
       "4         Brassée de fleurs fraîches surprise  39.00    3.7           14   \n",
       "\n",
       "                                          image_link  \n",
       "0  https://www.francefleurs.com/17992-large_defau...  \n",
       "1  https://www.francefleurs.com/17748-large_defau...  \n",
       "2  https://www.francefleurs.com/17742-large_defau...  \n",
       "3  https://www.francefleurs.com/10602-large_defau...  \n",
       "4  https://www.francefleurs.com/15052-large_defau...  "
      ]
     },
     "execution_count": 27,
     "metadata": {},
     "output_type": "execute_result"
    }
   ],
   "source": [
    "# data from the first page\n",
    "df.head()"
   ]
  },
  {
   "cell_type": "markdown",
   "metadata": {
    "id": "zSsC9fyxKV7-"
   },
   "source": [
    "### <font color = 'gold'> Collect data over multiple pages"
   ]
  },
  {
   "cell_type": "code",
   "execution_count": 11,
   "metadata": {
    "executionInfo": {
     "elapsed": 257427,
     "status": "ok",
     "timestamp": 1729788632448,
     "user": {
      "displayName": "Abdoul Wahab Diallo",
      "userId": "07970633565109207524"
     },
     "user_tz": 0
    },
    "id": "PlRyDhnRJ9hD"
   },
   "outputs": [],
   "source": [
    "# create a empty dataframe df\n",
    "df = pd.DataFrame()\n",
    "\n",
    "for p in range(1,5) :\n",
    "    \n",
    "        # url\n",
    "    url = f'https://www.francefleurs.com/11-fleurs-coupees-do-it-yourself?p={p}'\n",
    "    # get the code html of the page using the get function requests\n",
    "    res = get(url)\n",
    "    # stock the html in a beautifulsoup objet with a html parser (a parser allows to easily navigate through the html code)\n",
    "    soup = bs(res.text,'html.parser')\n",
    "    # get all containers that contains this information of each flower\n",
    "    containers = soup.find_all('li', class_ = 'ajax_block_product col-xs-12 col-sm-6 col-md-4')   \n",
    "\n",
    "    # scrape data from all the containers\n",
    "    data = []\n",
    "\n",
    "    for container in containers :\n",
    "        try:\n",
    "\n",
    "            link = container.find('a')['href']\n",
    "            # get the html code of the container\n",
    "            res_c = get(link)\n",
    "            # store the html code in a beautifulsoup objet with a html parser (a parser allows to easily navigate through the html code)\n",
    "            soup_c = bs(res_c.text, 'html.parser')\n",
    "            # get the details\n",
    "            details = soup_c.find('div', class_ = \"product-title-flex\").text.strip()\n",
    "\n",
    "            # get the price\n",
    "            price = soup_c.find('span', class_ = \"price\").text.strip().replace(\" €\", \"\").replace(\",\", \".\")\n",
    "\n",
    "            #details_price = details[1]\n",
    "\n",
    "            # get the rating\n",
    "            rating = soup_c.find('span', class_ = \"ratingValue\").text\n",
    "\n",
    "            # get number of opinions\n",
    "            num_opinions = soup_c.find('a', class_ = \"netreviewsProductWidgetNewLink\").span.text\n",
    "            # get image link\n",
    "\n",
    "            image_link = soup_c.find('div', class_ = \"image-block clearfix hidden-xs hidden-sm\").img['src']\n",
    "\n",
    "            dic = {'details':details,\n",
    "               'price' : price,\n",
    "               'rating' : rating,\n",
    "                'num_opinions' : num_opinions,\n",
    "                'image_link' : image_link }\n",
    "            data.append(dic)\n",
    "        except:\n",
    "            pass\n",
    "\n",
    "        DF = pd.DataFrame(data)\n",
    "\n",
    "    df = pd.concat([df,DF], axis = 0).reset_index(drop =True)\n"
   ]
  },
  {
   "cell_type": "code",
   "execution_count": 5,
   "metadata": {},
   "outputs": [
    {
     "name": "stdout",
     "output_type": "stream",
     "text": [
      "<class 'pandas.core.frame.DataFrame'>\n",
      "RangeIndex: 175 entries, 0 to 174\n",
      "Data columns (total 5 columns):\n",
      " #   Column        Non-Null Count  Dtype \n",
      "---  ------        --------------  ----- \n",
      " 0   details       175 non-null    object\n",
      " 1   price         175 non-null    object\n",
      " 2   rating        175 non-null    object\n",
      " 3   num_opinions  175 non-null    object\n",
      " 4   image_link    175 non-null    object\n",
      "dtypes: object(5)\n",
      "memory usage: 7.0+ KB\n"
     ]
    }
   ],
   "source": [
    "df.info()"
   ]
  },
  {
   "cell_type": "code",
   "execution_count": null,
   "metadata": {},
   "outputs": [],
   "source": []
  },
  {
   "cell_type": "code",
   "execution_count": 8,
   "metadata": {},
   "outputs": [
    {
     "data": {
      "text/plain": [
       "array(['2.4', '4.2', '5', '3.7', '2.8', '4.9', '3.4', '4.4', '3.9', '4.8',\n",
       "       '3.8', '4.1', '4', '4.5', '4.6', '3.6', '4.3', '4.7', '3.5', '3.3',\n",
       "       '3', '2', '3.1', '2.7', '2.5', '2.9', '2.3'], dtype=object)"
      ]
     },
     "execution_count": 8,
     "metadata": {},
     "output_type": "execute_result"
    }
   ],
   "source": [
    "df['rating'].unique()"
   ]
  },
  {
   "cell_type": "markdown",
   "metadata": {
    "id": "-TdVmidXA3Sn"
   },
   "source": [
    "### <font color = 'gold'> Assignment"
   ]
  },
  {
   "cell_type": "code",
   "execution_count": null,
   "metadata": {
    "id": "MAUnsfgbBB_U"
   },
   "outputs": [],
   "source": [
    "# url\n",
    "url = \"https://www.francefleurs.com/231-les-fleurs-de-mon-mariage\"\n",
    "# scrape over all pages the following informations : details, price, rating, number of opinions, image link\n",
    "# Clean the data"
   ]
  }
 ],
 "metadata": {
  "colab": {
   "authorship_tag": "ABX9TyNCzmN/3zDUtNkSMl94MJ6C",
   "provenance": [
    {
     "file_id": "1xPD2K7UQycFfkb6mH_84Qq-UHu30aNs_",
     "timestamp": 1729783175008
    }
   ]
  },
  "kernelspec": {
   "display_name": "Python 3 (ipykernel)",
   "language": "python",
   "name": "python3"
  },
  "language_info": {
   "codemirror_mode": {
    "name": "ipython",
    "version": 3
   },
   "file_extension": ".py",
   "mimetype": "text/x-python",
   "name": "python",
   "nbconvert_exporter": "python",
   "pygments_lexer": "ipython3",
   "version": "3.11.5"
  }
 },
 "nbformat": 4,
 "nbformat_minor": 4
}
