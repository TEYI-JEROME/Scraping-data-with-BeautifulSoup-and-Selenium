{
 "cells": [
  {
   "cell_type": "markdown",
   "id": "519fc2bf",
   "metadata": {},
   "source": [
    "> TEYI Kodjo Jerôme Sedowo"
   ]
  },
  {
   "cell_type": "markdown",
   "id": "a2757d73",
   "metadata": {},
   "source": [
    "* scrape over all pages the following informations : details, price, rating, number of opinions, image link\n",
    "* Clean the data"
   ]
  },
  {
   "cell_type": "code",
   "execution_count": 55,
   "id": "e60907f1",
   "metadata": {},
   "outputs": [],
   "source": [
    "from requests import get\n",
    "\n",
    "from bs4 import BeautifulSoup as bs\n",
    "\n",
    "import pandas as pd"
   ]
  },
  {
   "cell_type": "markdown",
   "id": "d72191d9",
   "metadata": {},
   "source": [
    "> We will take informations on the two différentes pages of our web site"
   ]
  },
  {
   "cell_type": "code",
   "execution_count": 56,
   "id": "7bbe6e85",
   "metadata": {},
   "outputs": [],
   "source": [
    "# create a empty dataframe df\n",
    "df = pd.DataFrame()\n",
    "\n",
    "for p in range(1,3) :\n",
    "       \n",
    "    # url\n",
    "    url = f\"https://www.francefleurs.com/231-les-fleurs-de-mon-mariage?p={p}\"\n",
    "    # get the code html of the page using the get function requests\n",
    "    res = get(url)\n",
    "    # stock the html in a beautifulsoup objet with a html parser (a parser allows to easily navigate through the html code)\n",
    "    soup = bs(res.text,'html.parser')\n",
    "    containers = soup.find_all('li', class_ = \"ajax_block_product col-xs-12 col-sm-6 col-md-4\")\n",
    "    \n",
    "    \n",
    "    data = []\n",
    "\n",
    "    for container in containers :\n",
    "        try:\n",
    "            link = container.find('a')['href']\n",
    "            res_c = get(link)\n",
    "            # store the html code in a beautifulsoup objet with a html parser (a parser allows to easily navigate through the html code)\n",
    "            soup_c = bs(res_c.text, 'html.parser')\n",
    "            # get the details\n",
    "            details = soup_c.find('div', class_ = \"product-title-flex\").text.strip()\n",
    "\n",
    "            # get the price\n",
    "            price = soup_c.find('span', class_ = \"price\").text.strip().replace(\" €\", \"\").replace(\",\", \".\")\n",
    "\n",
    "            # get the rating\n",
    "\n",
    "            rating = soup_c.find('span', class_ = \"ratingValue\").text\n",
    "\n",
    "            # get number of opinions\n",
    "\n",
    "            num_opinions = soup_c.find('a', class_ = \"netreviewsProductWidgetNewLink\").span.text\n",
    "\n",
    "            # get image link\n",
    "\n",
    "            image_link = soup_c.find('div', class_ = \"image-block clearfix hidden-xs hidden-sm\").img['src']\n",
    "\n",
    "\n",
    "            dic = {'details':details,\n",
    "               'price' : price,\n",
    "               'rating' : rating,\n",
    "                'num_opinions' : num_opinions,\n",
    "                'image_link' : image_link }\n",
    "            data.append(dic)\n",
    "\n",
    "        except:\n",
    "            pass   \n",
    "        \n",
    "        DF = pd.DataFrame(data)\n",
    "\n",
    "    df = pd.concat([df,DF], axis = 0).reset_index(drop =True)"
   ]
  },
  {
   "cell_type": "code",
   "execution_count": 57,
   "id": "3e204b89",
   "metadata": {},
   "outputs": [
    {
     "name": "stdout",
     "output_type": "stream",
     "text": [
      "<class 'pandas.core.frame.DataFrame'>\n",
      "RangeIndex: 97 entries, 0 to 96\n",
      "Data columns (total 5 columns):\n",
      " #   Column        Non-Null Count  Dtype \n",
      "---  ------        --------------  ----- \n",
      " 0   details       97 non-null     object\n",
      " 1   price         97 non-null     object\n",
      " 2   rating        97 non-null     object\n",
      " 3   num_opinions  97 non-null     object\n",
      " 4   image_link    97 non-null     object\n",
      "dtypes: object(5)\n",
      "memory usage: 3.9+ KB\n"
     ]
    }
   ],
   "source": [
    "df.info()"
   ]
  },
  {
   "cell_type": "code",
   "execution_count": 58,
   "id": "fd6107f6",
   "metadata": {},
   "outputs": [
    {
     "data": {
      "text/html": [
       "<div>\n",
       "<style scoped>\n",
       "    .dataframe tbody tr th:only-of-type {\n",
       "        vertical-align: middle;\n",
       "    }\n",
       "\n",
       "    .dataframe tbody tr th {\n",
       "        vertical-align: top;\n",
       "    }\n",
       "\n",
       "    .dataframe thead th {\n",
       "        text-align: right;\n",
       "    }\n",
       "</style>\n",
       "<table border=\"1\" class=\"dataframe\">\n",
       "  <thead>\n",
       "    <tr style=\"text-align: right;\">\n",
       "      <th></th>\n",
       "      <th>details</th>\n",
       "      <th>price</th>\n",
       "      <th>rating</th>\n",
       "      <th>num_opinions</th>\n",
       "      <th>image_link</th>\n",
       "    </tr>\n",
       "  </thead>\n",
       "  <tbody>\n",
       "    <tr>\n",
       "      <th>0</th>\n",
       "      <td>Rose La Belle (20 tiges)</td>\n",
       "      <td>27.90</td>\n",
       "      <td>4.5</td>\n",
       "      <td>46</td>\n",
       "      <td>https://www.francefleurs.com/15346-large_defau...</td>\n",
       "    </tr>\n",
       "    <tr>\n",
       "      <th>1</th>\n",
       "      <td>Germini rose pâle (10 tiges)</td>\n",
       "      <td>14.90</td>\n",
       "      <td>4.1</td>\n",
       "      <td>50</td>\n",
       "      <td>https://www.francefleurs.com/8419-large_defaul...</td>\n",
       "    </tr>\n",
       "    <tr>\n",
       "      <th>2</th>\n",
       "      <td>Ilex rouge (5 tiges)</td>\n",
       "      <td>17.90</td>\n",
       "      <td>3.6</td>\n",
       "      <td>8</td>\n",
       "      <td>https://www.francefleurs.com/10447-large_defau...</td>\n",
       "    </tr>\n",
       "    <tr>\n",
       "      <th>3</th>\n",
       "      <td>Branche de coton (5 boules)</td>\n",
       "      <td>2.50</td>\n",
       "      <td>4.5</td>\n",
       "      <td>98</td>\n",
       "      <td>https://www.francefleurs.com/13623-large_defau...</td>\n",
       "    </tr>\n",
       "    <tr>\n",
       "      <th>4</th>\n",
       "      <td>Orchidée Vanda bleue (16 fleurons)</td>\n",
       "      <td>34.90</td>\n",
       "      <td>3.8</td>\n",
       "      <td>4</td>\n",
       "      <td>https://www.francefleurs.com/12298-large_defau...</td>\n",
       "    </tr>\n",
       "  </tbody>\n",
       "</table>\n",
       "</div>"
      ],
      "text/plain": [
       "                              details  price rating num_opinions  \\\n",
       "0            Rose La Belle (20 tiges)  27.90    4.5           46   \n",
       "1        Germini rose pâle (10 tiges)  14.90    4.1           50   \n",
       "2                Ilex rouge (5 tiges)  17.90    3.6            8   \n",
       "3         Branche de coton (5 boules)   2.50    4.5           98   \n",
       "4  Orchidée Vanda bleue (16 fleurons)  34.90    3.8            4   \n",
       "\n",
       "                                          image_link  \n",
       "0  https://www.francefleurs.com/15346-large_defau...  \n",
       "1  https://www.francefleurs.com/8419-large_defaul...  \n",
       "2  https://www.francefleurs.com/10447-large_defau...  \n",
       "3  https://www.francefleurs.com/13623-large_defau...  \n",
       "4  https://www.francefleurs.com/12298-large_defau...  "
      ]
     },
     "execution_count": 58,
     "metadata": {},
     "output_type": "execute_result"
    }
   ],
   "source": [
    "df.head()"
   ]
  },
  {
   "cell_type": "code",
   "execution_count": 59,
   "id": "29f22cd9",
   "metadata": {},
   "outputs": [
    {
     "data": {
      "text/plain": [
       "Index(['details', 'price', 'rating', 'num_opinions', 'image_link'], dtype='object')"
      ]
     },
     "execution_count": 59,
     "metadata": {},
     "output_type": "execute_result"
    }
   ],
   "source": [
    "df.columns"
   ]
  },
  {
   "cell_type": "markdown",
   "id": "0547c1c4",
   "metadata": {},
   "source": [
    "we can see the different value of the variables with this code :"
   ]
  },
  {
   "cell_type": "code",
   "execution_count": 60,
   "id": "d61005f4",
   "metadata": {},
   "outputs": [
    {
     "name": "stdout",
     "output_type": "stream",
     "text": [
      "------ details\n",
      "\n",
      "['Rose La Belle (20 tiges)' 'Germini rose pâle (10 tiges)'\n",
      " 'Ilex rouge (5 tiges)' 'Branche de coton (5 boules)'\n",
      " 'Orchidée Vanda bleue (16 fleurons)' 'Freesia jaune (10 tiges)'\n",
      " 'Rose Sweet Avalanche (20 tiges)' 'Nutans rouge (5 tiges)'\n",
      " 'Germini blanc (10 tiges)' 'Germini jaune (10 tiges)'\n",
      " 'Germini orange (10 tiges)' 'Anthurium blanc (6 tiges)'\n",
      " 'Germini rouge (10 tiges)' 'Germini fuchsia (10 tiges)'\n",
      " 'Rose Pêche Avalanche (20 tiges)' 'Lisianthus rose (10 tiges)'\n",
      " 'Lisianthus blanc (10 tiges)' 'Hypéricum blanc (5 tiges)'\n",
      " 'Hypéricum vert (5 tiges)' \"Roses emballées à l'unité\"\n",
      " 'Hypéricum rouge (5 tiges)' 'Lys oriental blanc (80cmx10tiges)'\n",
      " 'Lys asiatique (10 tiges)' 'Branche de coton (7-8 boules)'\n",
      " 'Orchidée Phalaenopsis (25 fleurons)' 'Flexigrass (env. 40 tiges)'\n",
      " 'Chamaérops (10 tiges)' 'Beargrass (50 tiges)' 'Aspidistra (10 tiges)'\n",
      " 'Alstroemeria rose (10 tiges)' 'Salal (25 tiges)' 'Ruscus (10 tiges)'\n",
      " 'Lierre (10 tiges)' 'Philo Monstera moyen (20 tiges)'\n",
      " 'Gypsophile blanc (5 tiges)' 'Gypsophile blanc (25 tiges)'\n",
      " 'Dianthus (10 tiges)' 'Tulipe blanche (10 tiges)'\n",
      " 'Freesia varié (10 tiges)' 'Chico (20 tiges)'\n",
      " 'Pétales de roses fraîches x1500' 'Pétales de roses fraîches x3200'\n",
      " 'Pétales de roses fraîches x400' 'Pétales de roses fraîches x4800'\n",
      " 'Pétales de roses fraîches x800' 'Bouquet de mariée Sarah'\n",
      " 'Bouquet de mariée Lola' 'Bouquet de mariée Alice'\n",
      " 'Rose Red Naomi (10 tiges)' 'Rose variée (20 tiges)'\n",
      " 'Mini oeillet blanc (10 tiges)' 'Hortensia bleu foncé (5 tiges)'\n",
      " 'Alstroemeria rouge (10 tiges)' 'Alstroemeria blanc (10 tiges)'\n",
      " 'Alstroemeria violet (10 tiges)' 'Oeillet sim rose pâle (20 tiges)'\n",
      " 'Germini saumon (10 tiges)' 'Mini oeillet rose tendre (10 tiges)'\n",
      " 'Rose branchue bombastic rose (10 tiges)'\n",
      " 'Couronne cheveux séchée Joséphine' 'Couronne cheveux séchée Louison'\n",
      " 'Pétales de roses éternelles roses' 'Statice frais varié (5 tiges)'\n",
      " 'Eucalyptus cinerea (env 200 gr.)' 'Eucalyptus parvifolia (env 200 gr.)'\n",
      " 'Boutonnière Marilou' 'Eucalyptus cinerea (env 100 gr.)'\n",
      " 'Bouquet de mariée Amandine' 'Bouquet de mariée Line'\n",
      " 'Bouquet de mariée Zoé' 'Bouquet de mariée Justine'\n",
      " 'Bouquet de mariée Anna' 'Pivoine rouge (10 tiges)'\n",
      " 'Pivoine rose pâle (10 tiges)' 'Pivoine fuchsia (10 tiges)'\n",
      " 'Freesia rose (10 tiges)' 'Renoncule blanche (10 tiges)'\n",
      " 'Lisianthus crème (10 tiges)' 'Renoncule rose (10 tiges)'\n",
      " 'Glaïeul blanc (10 tiges)' 'Anémone blanche (10 tiges)'\n",
      " 'Pivoine blanche (10 tiges)' 'Hypéricum saumon (5 tiges)'\n",
      " 'Hortensia rose pâle (5 tiges)' 'Hortensia blanc (5 tiges)'\n",
      " 'Alstroemeria jaune (10 tiges)' 'Tulipe rouge (10 tiges)'\n",
      " 'Tulipe rose (10 tiges)' 'Tulipe orange (10 tiges)'\n",
      " 'Renoncule rouge (10 tiges)' 'Treefern (25 tiges)'\n",
      " 'Tulipe parme (10 tiges)' 'Lisianthus parme (10 tiges)'\n",
      " 'Hypéricum rose (5 tiges)' 'Olivier (env 200gr.)'\n",
      " 'Pétales de roses éternelles bleues' 'Campanule blanche (10 tiges)']\n",
      "\n",
      "------ price\n",
      "\n",
      "['27.90' '14.90' '17.90' '2.50' '34.90' '15.90' '39.90' '26.90' '9.90'\n",
      " '86.90' '7.50' '59.90' '10.90' '7.90' '6.90' '11.90' '18.90' '42.90'\n",
      " '44.90' '16.90' '13.90' '96.90' '182.90' '29.90' '272.90' '52.90' '60.00'\n",
      " '50.00' '55.00' '22.90' '8.90' '8.00' '5.00' '70.00' '65.00' '75.00'\n",
      " '25.90' '19.90']\n",
      "\n",
      "------ rating\n",
      "\n",
      "['4.5' '4.1' '3.6' '3.8' '3.9' '4' '4.4' '3.7' '4.2' '4.7' '3.4' '4.6' '2'\n",
      " '5' '1' '3.3' '3.5' '4.3' '3' '2.9' '2.3']\n",
      "\n",
      "------ num_opinions\n",
      "\n",
      "['46' '50' '8' '98' '4' '18' '39' '15' '60' '23' '19' '22' '25' '11' '24'\n",
      " '108' '14' '34' '61' '33' '102' '3' '66' '28' '96' '116' '55' '48' '45'\n",
      " '17' '219' '228' '57' '38' '74' '20' '113' '2' '70' '54' '62' '21' '56'\n",
      " '13' '27' '1' '9' '65' '30' '6' '7' '49' '29' '58' '32' '36' '59' '26'\n",
      " '16' '10' '5']\n",
      "\n",
      "------ image_link\n",
      "\n",
      "['https://www.francefleurs.com/15346-large_default/rose-la-belle-20-tiges.jpg'\n",
      " 'https://www.francefleurs.com/8419-large_default/germini-rose-pale-10-tiges.jpg'\n",
      " 'https://www.francefleurs.com/10447-large_default/ilex-rouge-5-tiges.jpg'\n",
      " 'https://www.francefleurs.com/13623-large_default/branche-de-coton-5-boules.jpg'\n",
      " 'https://www.francefleurs.com/12298-large_default/orchidee-vanda-bleue.jpg'\n",
      " 'https://www.francefleurs.com/5652-large_default/freesia-jaune-10-tiges.jpg'\n",
      " 'https://www.francefleurs.com/13585-large_default/rose-sweet-avalanche-20-tiges.jpg'\n",
      " 'https://www.francefleurs.com/9766-large_default/nutans-orange-5-tiges.jpg'\n",
      " 'https://www.francefleurs.com/13687-large_default/germini-blanc-10-tiges.jpg'\n",
      " 'https://www.francefleurs.com/8418-large_default/germini-jaune-10-tiges.jpg'\n",
      " 'https://www.francefleurs.com/12381-large_default/germini-orange-10-tiges.jpg'\n",
      " 'https://www.francefleurs.com/13613-large_default/anthurium-blanc-6-tiges.jpg'\n",
      " 'https://www.francefleurs.com/8416-large_default/germini-rouge-10-tiges.jpg'\n",
      " 'https://www.francefleurs.com/8415-large_default/germini-fuchsia-10-tiges.jpg'\n",
      " 'https://www.francefleurs.com/4239-large_default/rose-peche-avalanche-20-tiges.jpg'\n",
      " 'https://www.francefleurs.com/11756-large_default/lisianthus-rose-10-tiges.jpg'\n",
      " 'https://www.francefleurs.com/11737-large_default/lisianthus-blanc-10-tiges.jpg'\n",
      " 'https://www.francefleurs.com/9839-large_default/hypericum-blanc-10-tiges.jpg'\n",
      " 'https://www.francefleurs.com/10085-large_default/hypericum-vert-5-tiges.jpg'\n",
      " 'https://www.francefleurs.com/10602-large_default/rose-emballee-a-l-unite.jpg'\n",
      " 'https://www.francefleurs.com/9867-large_default/hypericum-rouge-5-tiges.jpg'\n",
      " 'https://www.francefleurs.com/12786-large_default/lys-oriental-blanc-80cmx10tiges.jpg'\n",
      " 'https://www.francefleurs.com/4212-large_default/lys-asiatique-10-tiges.jpg'\n",
      " 'https://www.francefleurs.com/13621-large_default/branche-de-coton-8-boules.jpg'\n",
      " 'https://www.francefleurs.com/13301-large_default/orchidee-phalaenopsis-25-fleurons.jpg'\n",
      " 'https://www.francefleurs.com/7343-large_default/flexigrass-env-40-tiges.jpg'\n",
      " 'https://www.francefleurs.com/9793-large_default/chamaerops-10-tiges.jpg'\n",
      " 'https://www.francefleurs.com/4229-large_default/beargrass-50-tiges.jpg'\n",
      " 'https://www.francefleurs.com/5433-large_default/aspidistra-10-tiges.jpg'\n",
      " 'https://www.francefleurs.com/3061-large_default/alstroemeria-rose-10-tiges.jpg'\n",
      " 'https://www.francefleurs.com/146-large_default/salal-25-tiges.jpg'\n",
      " 'https://www.francefleurs.com/5662-large_default/ruscus-10-tiges.jpg'\n",
      " 'https://www.francefleurs.com/3747-large_default/lierre-10-tiges.jpg'\n",
      " 'https://www.francefleurs.com/12348-large_default/philo-monstera-moyen-10-tiges.jpg'\n",
      " 'https://www.francefleurs.com/13564-large_default/gypsophile-perfecta-5-tiges.jpg'\n",
      " 'https://www.francefleurs.com/13576-large_default/gypsophile-perfecta-25-tiges.jpg'\n",
      " 'https://www.francefleurs.com/593-large_default/dianthus-10-tiges.jpg'\n",
      " 'https://www.francefleurs.com/12342-large_default/tulipe-blanche-10-tiges.jpg'\n",
      " 'https://www.francefleurs.com/2368-large_default/freesia-varie-10-tiges.jpg'\n",
      " 'https://www.francefleurs.com/2970-large_default/chico-10-tiges.jpg'\n",
      " 'https://www.francefleurs.com/3175-large_default/petales-de-roses-fraiches-x1500.jpg'\n",
      " 'https://www.francefleurs.com/3182-large_default/petales-de-roses-fraiches-x3200.jpg'\n",
      " 'https://www.francefleurs.com/15353-large_default/petales-de-roses-fraiches-x400.jpg'\n",
      " 'https://www.francefleurs.com/3189-large_default/petales-de-roses-fraiches-x4800.jpg'\n",
      " 'https://www.francefleurs.com/15354-large_default/petales-de-roses-fraiches-x800.jpg'\n",
      " 'https://www.francefleurs.com/10805-large_default/bouquet-de-mariee-champetre.jpg'\n",
      " 'https://www.francefleurs.com/10844-large_default/bouquet-de-mariee-delicat.jpg'\n",
      " 'https://www.francefleurs.com/10880-large_default/bouquet-de-mariee-romantique.jpg'\n",
      " 'https://www.francefleurs.com/10656-large_default/rose-red-naomi-10-tiges.jpg'\n",
      " 'https://www.francefleurs.com/15438-large_default/rose-40cm-20-tiges.jpg'\n",
      " 'https://www.francefleurs.com/13705-large_default/mini-oeillet-blanc-10-tiges.jpg'\n",
      " 'https://www.francefleurs.com/18350-large_default/hortensia-bleu-5-tiges.jpg'\n",
      " 'https://www.francefleurs.com/6166-large_default/alstroemeria-rouge-10-tiges.jpg'\n",
      " 'https://www.francefleurs.com/7342-large_default/alstroemeria-blanc-10-tiges.jpg'\n",
      " 'https://www.francefleurs.com/12359-large_default/alstroemeria-violet-10-tiges.jpg'\n",
      " 'https://www.francefleurs.com/14715-large_default/oeillet-sims-rosepale-20-tiges.jpg'\n",
      " 'https://www.francefleurs.com/13631-large_default/germini-orange-10-tiges.jpg'\n",
      " 'https://www.francefleurs.com/7845-large_default/mini-oeillet-rose-tendre-10-tiges.jpg'\n",
      " 'https://www.francefleurs.com/13641-large_default/rose-branchue-bombastic-10-tiges.jpg'\n",
      " 'https://www.francefleurs.com/14047-large_default/couronne-cheveux-sechee-josephine.jpg'\n",
      " 'https://www.francefleurs.com/14074-large_default/couronne-cheveux-sechee-louison.jpg'\n",
      " 'https://www.francefleurs.com/17497-large_default/petales-de-roses-eternelles-roses.jpg'\n",
      " 'https://www.francefleurs.com/9820-large_default/statice-naturel-varie-5-tiges.jpg'\n",
      " 'https://www.francefleurs.com/18183-large_default/eucalyptus-cinerea-env-200-gr.jpg'\n",
      " 'https://www.francefleurs.com/18188-large_default/eucalyptus-parvifolia-env-300-gr.jpg'\n",
      " 'https://www.francefleurs.com/13987-large_default/boutonniere-de-coton-vintage.jpg'\n",
      " 'https://www.francefleurs.com/18176-large_default/eucalyptus-cinerea.jpg'\n",
      " 'https://www.francefleurs.com/18095-large_default/l-adorable.jpg'\n",
      " 'https://www.francefleurs.com/18105-large_default/bouquet-de-mariee-line.jpg'\n",
      " 'https://www.francefleurs.com/18107-large_default/sweet-love.jpg'\n",
      " 'https://www.francefleurs.com/18091-large_default/bouquet-de-mariee-justine.jpg'\n",
      " 'https://www.francefleurs.com/18057-large_default/bouquet-de-mariee-anna.jpg'\n",
      " 'https://www.francefleurs.com/11271-large_default/pivoine-rouge10-tiges.jpg'\n",
      " 'https://www.francefleurs.com/11262-large_default/pivoine-rose-pale-10-tiges.jpg'\n",
      " 'https://www.francefleurs.com/11191-large_default/pivoine-fuchsia-10-tiges.jpg'\n",
      " 'https://www.francefleurs.com/12319-large_default/freesia-rose-10-tiges.jpg'\n",
      " 'https://www.francefleurs.com/15157-large_default/renoncule-blanche-10-tiges.jpg'\n",
      " 'https://www.francefleurs.com/11742-large_default/lisianthus-creme-10-tiges.jpg'\n",
      " 'https://www.francefleurs.com/3011-large_default/renoncule-rose-10-tiges.jpg'\n",
      " 'https://www.francefleurs.com/11920-large_default/glaieul-blanc-10-tiges.jpg'\n",
      " 'https://www.francefleurs.com/12366-large_default/anemone-10-tiges.jpg'\n",
      " 'https://www.francefleurs.com/11190-large_default/pivoine-blanche-10-tiges.jpg'\n",
      " 'https://www.francefleurs.com/10115-large_default/hypericum-saumon-5-tiges.jpg'\n",
      " 'https://www.francefleurs.com/11733-large_default/hortensia-rose-5-tiges.jpg'\n",
      " 'https://www.francefleurs.com/11411-large_default/hortensia-blanc-5-tiges.jpg'\n",
      " 'https://www.francefleurs.com/12355-large_default/alstroemeria-jaune-10-tiges.jpg'\n",
      " 'https://www.francefleurs.com/12376-large_default/tulipe-rouge-10-tiges.jpg'\n",
      " 'https://www.francefleurs.com/13483-large_default/tulipe-rose-10-tiges.jpg'\n",
      " 'https://www.francefleurs.com/13492-large_default/tulipe-orange-10-tiges.jpg'\n",
      " 'https://www.francefleurs.com/4726-large_default/renoncule-rouge-10-tiges.jpg'\n",
      " 'https://www.francefleurs.com/7138-large_default/treefern-25-tiges.jpg'\n",
      " 'https://www.francefleurs.com/13486-large_default/tulipe-parme-10-tiges.jpg'\n",
      " 'https://www.francefleurs.com/8404-large_default/lisianthus-parme-10-tiges.jpg'\n",
      " 'https://www.francefleurs.com/10089-large_default/hypericum-rose-5-tiges.jpg'\n",
      " 'https://www.francefleurs.com/12727-large_default/olivier.jpg'\n",
      " 'https://www.francefleurs.com/13038-large_default/petales-de-roses-eternelles-bleues.jpg'\n",
      " 'https://www.francefleurs.com/16469-large_default/campanule-blanche.jpg']\n",
      "\n"
     ]
    }
   ],
   "source": [
    "variables = ['details', 'price', 'rating', 'num_opinions', 'image_link']\n",
    "\n",
    "for var in variables : \n",
    "    print(\"------\",var)\n",
    "    print(\"\")\n",
    "    print(df[var].unique())\n",
    "    \n",
    "    print(\"\")"
   ]
  },
  {
   "cell_type": "code",
   "execution_count": 61,
   "id": "3f94353f",
   "metadata": {},
   "outputs": [],
   "source": [
    "var_convert = ['price', 'rating']\n",
    "\n",
    "for var in var_convert :\n",
    "    df[var] = df[var].astype('float')"
   ]
  },
  {
   "cell_type": "code",
   "execution_count": 62,
   "id": "378a0926",
   "metadata": {},
   "outputs": [],
   "source": [
    "df['num_opinions'] = df['num_opinions'].astype('int')"
   ]
  },
  {
   "cell_type": "code",
   "execution_count": 63,
   "id": "faf0c76c",
   "metadata": {},
   "outputs": [
    {
     "name": "stdout",
     "output_type": "stream",
     "text": [
      "<class 'pandas.core.frame.DataFrame'>\n",
      "RangeIndex: 97 entries, 0 to 96\n",
      "Data columns (total 5 columns):\n",
      " #   Column        Non-Null Count  Dtype  \n",
      "---  ------        --------------  -----  \n",
      " 0   details       97 non-null     object \n",
      " 1   price         97 non-null     float64\n",
      " 2   rating        97 non-null     float64\n",
      " 3   num_opinions  97 non-null     int32  \n",
      " 4   image_link    97 non-null     object \n",
      "dtypes: float64(2), int32(1), object(2)\n",
      "memory usage: 3.5+ KB\n"
     ]
    }
   ],
   "source": [
    "df.info()"
   ]
  },
  {
   "cell_type": "markdown",
   "id": "5503acd8",
   "metadata": {},
   "source": [
    "Verify missing values"
   ]
  },
  {
   "cell_type": "code",
   "execution_count": 64,
   "id": "b3cd6c4e",
   "metadata": {},
   "outputs": [
    {
     "data": {
      "text/plain": [
       "0"
      ]
     },
     "execution_count": 64,
     "metadata": {},
     "output_type": "execute_result"
    }
   ],
   "source": [
    "df.isna().any().sum()"
   ]
  },
  {
   "cell_type": "code",
   "execution_count": 65,
   "id": "051b3928",
   "metadata": {},
   "outputs": [
    {
     "data": {
      "text/plain": [
       "details         0\n",
       "price           0\n",
       "rating          0\n",
       "num_opinions    0\n",
       "image_link      0\n",
       "dtype: int64"
      ]
     },
     "execution_count": 65,
     "metadata": {},
     "output_type": "execute_result"
    }
   ],
   "source": [
    "df.isna().sum()"
   ]
  },
  {
   "cell_type": "markdown",
   "id": "01a102ee",
   "metadata": {},
   "source": [
    "> No missing value."
   ]
  },
  {
   "cell_type": "markdown",
   "id": "854cdeb2",
   "metadata": {},
   "source": [
    "let check about duplicated value."
   ]
  },
  {
   "cell_type": "code",
   "execution_count": 66,
   "id": "b7449ab9",
   "metadata": {},
   "outputs": [
    {
     "data": {
      "text/plain": [
       "0"
      ]
     },
     "execution_count": 66,
     "metadata": {},
     "output_type": "execute_result"
    }
   ],
   "source": [
    "df.duplicated().sum().sum()"
   ]
  },
  {
   "cell_type": "code",
   "execution_count": 67,
   "id": "a8b7507b",
   "metadata": {},
   "outputs": [
    {
     "data": {
      "text/plain": [
       "details          object\n",
       "price           float64\n",
       "rating          float64\n",
       "num_opinions      int32\n",
       "image_link       object\n",
       "dtype: object"
      ]
     },
     "execution_count": 67,
     "metadata": {},
     "output_type": "execute_result"
    }
   ],
   "source": [
    "df.dtypes"
   ]
  },
  {
   "cell_type": "markdown",
   "id": "990d7b60",
   "metadata": {},
   "source": [
    "> Now we can export our data in excel file"
   ]
  },
  {
   "cell_type": "code",
   "execution_count": null,
   "id": "c0934ace",
   "metadata": {},
   "outputs": [],
   "source": []
  },
  {
   "cell_type": "code",
   "execution_count": 68,
   "id": "02037794",
   "metadata": {},
   "outputs": [],
   "source": [
    "df.to_excel('les_fleurs_de_mariage.xlsx', index = False, header = True)"
   ]
  },
  {
   "cell_type": "code",
   "execution_count": null,
   "id": "6affdd33",
   "metadata": {},
   "outputs": [],
   "source": []
  }
 ],
 "metadata": {
  "kernelspec": {
   "display_name": "Python 3 (ipykernel)",
   "language": "python",
   "name": "python3"
  },
  "language_info": {
   "codemirror_mode": {
    "name": "ipython",
    "version": 3
   },
   "file_extension": ".py",
   "mimetype": "text/x-python",
   "name": "python",
   "nbconvert_exporter": "python",
   "pygments_lexer": "ipython3",
   "version": "3.11.5"
  }
 },
 "nbformat": 4,
 "nbformat_minor": 5
}
